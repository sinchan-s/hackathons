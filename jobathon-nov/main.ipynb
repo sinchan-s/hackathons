{
 "cells": [
  {
   "cell_type": "code",
   "execution_count": 1,
   "metadata": {},
   "outputs": [],
   "source": [
    "import pandas as pd\n",
    "import numpy as np\n",
    "import matplotlib.pyplot as plt"
   ]
  },
  {
   "cell_type": "code",
   "execution_count": 75,
   "metadata": {},
   "outputs": [
    {
     "data": {
      "text/html": [
       "<div>\n",
       "<style scoped>\n",
       "    .dataframe tbody tr th:only-of-type {\n",
       "        vertical-align: middle;\n",
       "    }\n",
       "\n",
       "    .dataframe tbody tr th {\n",
       "        vertical-align: top;\n",
       "    }\n",
       "\n",
       "    .dataframe thead th {\n",
       "        text-align: right;\n",
       "    }\n",
       "</style>\n",
       "<table border=\"1\" class=\"dataframe\">\n",
       "  <thead>\n",
       "    <tr style=\"text-align: right;\">\n",
       "      <th></th>\n",
       "      <th>row_id</th>\n",
       "      <th>datetime</th>\n",
       "      <th>energy</th>\n",
       "    </tr>\n",
       "  </thead>\n",
       "  <tbody>\n",
       "    <tr>\n",
       "      <th>0</th>\n",
       "      <td>1</td>\n",
       "      <td>2008-03-01 00:00:00</td>\n",
       "      <td>1259.985563</td>\n",
       "    </tr>\n",
       "    <tr>\n",
       "      <th>1</th>\n",
       "      <td>2</td>\n",
       "      <td>2008-03-01 01:00:00</td>\n",
       "      <td>1095.541500</td>\n",
       "    </tr>\n",
       "    <tr>\n",
       "      <th>2</th>\n",
       "      <td>3</td>\n",
       "      <td>2008-03-01 02:00:00</td>\n",
       "      <td>1056.247500</td>\n",
       "    </tr>\n",
       "    <tr>\n",
       "      <th>3</th>\n",
       "      <td>4</td>\n",
       "      <td>2008-03-01 03:00:00</td>\n",
       "      <td>1034.742000</td>\n",
       "    </tr>\n",
       "    <tr>\n",
       "      <th>4</th>\n",
       "      <td>5</td>\n",
       "      <td>2008-03-01 04:00:00</td>\n",
       "      <td>1026.334500</td>\n",
       "    </tr>\n",
       "  </tbody>\n",
       "</table>\n",
       "</div>"
      ],
      "text/plain": [
       "   row_id             datetime       energy\n",
       "0       1  2008-03-01 00:00:00  1259.985563\n",
       "1       2  2008-03-01 01:00:00  1095.541500\n",
       "2       3  2008-03-01 02:00:00  1056.247500\n",
       "3       4  2008-03-01 03:00:00  1034.742000\n",
       "4       5  2008-03-01 04:00:00  1026.334500"
      ]
     },
     "execution_count": 75,
     "metadata": {},
     "output_type": "execute_result"
    }
   ],
   "source": [
    "df = pd.read_csv('train_IxoE5JN.csv')\n",
    "df.head()"
   ]
  },
  {
   "cell_type": "code",
   "execution_count": 12,
   "metadata": {},
   "outputs": [
    {
     "data": {
      "text/plain": [
       "(94992, 3)"
      ]
     },
     "execution_count": 12,
     "metadata": {},
     "output_type": "execute_result"
    }
   ],
   "source": [
    "df.shape"
   ]
  },
  {
   "cell_type": "code",
   "execution_count": 3,
   "metadata": {},
   "outputs": [
    {
     "data": {
      "text/plain": [
       "row_id         0\n",
       "datetime       0\n",
       "energy      1900\n",
       "dtype: int64"
      ]
     },
     "execution_count": 3,
     "metadata": {},
     "output_type": "execute_result"
    }
   ],
   "source": [
    "df.isnull().sum()"
   ]
  },
  {
   "cell_type": "code",
   "execution_count": 4,
   "metadata": {},
   "outputs": [
    {
     "data": {
      "text/html": [
       "<div>\n",
       "<style scoped>\n",
       "    .dataframe tbody tr th:only-of-type {\n",
       "        vertical-align: middle;\n",
       "    }\n",
       "\n",
       "    .dataframe tbody tr th {\n",
       "        vertical-align: top;\n",
       "    }\n",
       "\n",
       "    .dataframe thead th {\n",
       "        text-align: right;\n",
       "    }\n",
       "</style>\n",
       "<table border=\"1\" class=\"dataframe\">\n",
       "  <thead>\n",
       "    <tr style=\"text-align: right;\">\n",
       "      <th></th>\n",
       "      <th>row_id</th>\n",
       "      <th>datetime</th>\n",
       "    </tr>\n",
       "  </thead>\n",
       "  <tbody>\n",
       "    <tr>\n",
       "      <th>0</th>\n",
       "      <td>94993</td>\n",
       "      <td>2019-01-01 00:00:00</td>\n",
       "    </tr>\n",
       "    <tr>\n",
       "      <th>1</th>\n",
       "      <td>94994</td>\n",
       "      <td>2019-01-01 01:00:00</td>\n",
       "    </tr>\n",
       "    <tr>\n",
       "      <th>2</th>\n",
       "      <td>94995</td>\n",
       "      <td>2019-01-01 02:00:00</td>\n",
       "    </tr>\n",
       "    <tr>\n",
       "      <th>3</th>\n",
       "      <td>94996</td>\n",
       "      <td>2019-01-01 03:00:00</td>\n",
       "    </tr>\n",
       "    <tr>\n",
       "      <th>4</th>\n",
       "      <td>94997</td>\n",
       "      <td>2019-01-01 04:00:00</td>\n",
       "    </tr>\n",
       "  </tbody>\n",
       "</table>\n",
       "</div>"
      ],
      "text/plain": [
       "   row_id             datetime\n",
       "0   94993  2019-01-01 00:00:00\n",
       "1   94994  2019-01-01 01:00:00\n",
       "2   94995  2019-01-01 02:00:00\n",
       "3   94996  2019-01-01 03:00:00\n",
       "4   94997  2019-01-01 04:00:00"
      ]
     },
     "execution_count": 4,
     "metadata": {},
     "output_type": "execute_result"
    }
   ],
   "source": [
    "test_df = pd.read_csv('test_WudNWDM.csv')\n",
    "test_df.head()"
   ]
  },
  {
   "cell_type": "code",
   "execution_count": 7,
   "metadata": {},
   "outputs": [
    {
     "data": {
      "text/plain": [
       "(26304, 2)"
      ]
     },
     "execution_count": 7,
     "metadata": {},
     "output_type": "execute_result"
    }
   ],
   "source": [
    "test_df.shape"
   ]
  },
  {
   "cell_type": "code",
   "execution_count": 8,
   "metadata": {},
   "outputs": [
    {
     "data": {
      "text/plain": [
       "row_id      0\n",
       "datetime    0\n",
       "dtype: int64"
      ]
     },
     "execution_count": 8,
     "metadata": {},
     "output_type": "execute_result"
    }
   ],
   "source": [
    "test_df.isnull().sum()"
   ]
  },
  {
   "cell_type": "code",
   "execution_count": 10,
   "metadata": {},
   "outputs": [],
   "source": [
    "from sklearn.preprocessing import MinMaxScaler\n",
    "scaler = MinMaxScaler(feature_range=(0,1))\n"
   ]
  },
  {
   "cell_type": "code",
   "execution_count": 21,
   "metadata": {},
   "outputs": [
    {
     "name": "stdout",
     "output_type": "stream",
     "text": [
      "<class 'pandas.core.frame.DataFrame'>\n",
      "RangeIndex: 94992 entries, 0 to 94991\n",
      "Data columns (total 3 columns):\n",
      " #   Column    Non-Null Count  Dtype  \n",
      "---  ------    --------------  -----  \n",
      " 0   row_id    94992 non-null  int64  \n",
      " 1   datetime  94992 non-null  object \n",
      " 2   energy    93092 non-null  float64\n",
      "dtypes: float64(1), int64(1), object(1)\n",
      "memory usage: 2.2+ MB\n"
     ]
    }
   ],
   "source": [
    "df.info()"
   ]
  },
  {
   "cell_type": "code",
   "execution_count": 24,
   "metadata": {},
   "outputs": [
    {
     "data": {
      "text/html": [
       "<div>\n",
       "<style scoped>\n",
       "    .dataframe tbody tr th:only-of-type {\n",
       "        vertical-align: middle;\n",
       "    }\n",
       "\n",
       "    .dataframe tbody tr th {\n",
       "        vertical-align: top;\n",
       "    }\n",
       "\n",
       "    .dataframe thead th {\n",
       "        text-align: right;\n",
       "    }\n",
       "</style>\n",
       "<table border=\"1\" class=\"dataframe\">\n",
       "  <thead>\n",
       "    <tr style=\"text-align: right;\">\n",
       "      <th></th>\n",
       "      <th>row_id</th>\n",
       "      <th>datetime</th>\n",
       "      <th>energy</th>\n",
       "    </tr>\n",
       "  </thead>\n",
       "  <tbody>\n",
       "    <tr>\n",
       "      <th>0</th>\n",
       "      <td>1</td>\n",
       "      <td>2008-03-01 00:00:00</td>\n",
       "      <td>1259.985563</td>\n",
       "    </tr>\n",
       "    <tr>\n",
       "      <th>1</th>\n",
       "      <td>2</td>\n",
       "      <td>2008-03-01 01:00:00</td>\n",
       "      <td>1095.541500</td>\n",
       "    </tr>\n",
       "    <tr>\n",
       "      <th>2</th>\n",
       "      <td>3</td>\n",
       "      <td>2008-03-01 02:00:00</td>\n",
       "      <td>1056.247500</td>\n",
       "    </tr>\n",
       "    <tr>\n",
       "      <th>3</th>\n",
       "      <td>4</td>\n",
       "      <td>2008-03-01 03:00:00</td>\n",
       "      <td>1034.742000</td>\n",
       "    </tr>\n",
       "    <tr>\n",
       "      <th>4</th>\n",
       "      <td>5</td>\n",
       "      <td>2008-03-01 04:00:00</td>\n",
       "      <td>1026.334500</td>\n",
       "    </tr>\n",
       "  </tbody>\n",
       "</table>\n",
       "</div>"
      ],
      "text/plain": [
       "   row_id             datetime       energy\n",
       "0       1  2008-03-01 00:00:00  1259.985563\n",
       "1       2  2008-03-01 01:00:00  1095.541500\n",
       "2       3  2008-03-01 02:00:00  1056.247500\n",
       "3       4  2008-03-01 03:00:00  1034.742000\n",
       "4       5  2008-03-01 04:00:00  1026.334500"
      ]
     },
     "execution_count": 24,
     "metadata": {},
     "output_type": "execute_result"
    }
   ],
   "source": [
    "df.head()"
   ]
  },
  {
   "cell_type": "code",
   "execution_count": 25,
   "metadata": {},
   "outputs": [
    {
     "name": "stdout",
     "output_type": "stream",
     "text": [
      "<class 'pandas.core.frame.DataFrame'>\n",
      "RangeIndex: 94992 entries, 0 to 94991\n",
      "Data columns (total 3 columns):\n",
      " #   Column    Non-Null Count  Dtype         \n",
      "---  ------    --------------  -----         \n",
      " 0   row_id    94992 non-null  int64         \n",
      " 1   datetime  94992 non-null  datetime64[ns]\n",
      " 2   energy    93092 non-null  float64       \n",
      "dtypes: datetime64[ns](1), float64(1), int64(1)\n",
      "memory usage: 2.2 MB\n"
     ]
    }
   ],
   "source": [
    "df['datetime'] = pd.to_datetime(df['datetime'])\n",
    "df.info()"
   ]
  },
  {
   "cell_type": "code",
   "execution_count": 40,
   "metadata": {},
   "outputs": [
    {
     "data": {
      "text/html": [
       "<div>\n",
       "<style scoped>\n",
       "    .dataframe tbody tr th:only-of-type {\n",
       "        vertical-align: middle;\n",
       "    }\n",
       "\n",
       "    .dataframe tbody tr th {\n",
       "        vertical-align: top;\n",
       "    }\n",
       "\n",
       "    .dataframe thead th {\n",
       "        text-align: right;\n",
       "    }\n",
       "</style>\n",
       "<table border=\"1\" class=\"dataframe\">\n",
       "  <thead>\n",
       "    <tr style=\"text-align: right;\">\n",
       "      <th></th>\n",
       "      <th>datetime</th>\n",
       "      <th>energy</th>\n",
       "    </tr>\n",
       "  </thead>\n",
       "  <tbody>\n",
       "    <tr>\n",
       "      <th>0</th>\n",
       "      <td>2008-03-01 00:00:00</td>\n",
       "      <td>1259.985563</td>\n",
       "    </tr>\n",
       "    <tr>\n",
       "      <th>1</th>\n",
       "      <td>2008-03-01 01:00:00</td>\n",
       "      <td>1095.541500</td>\n",
       "    </tr>\n",
       "    <tr>\n",
       "      <th>2</th>\n",
       "      <td>2008-03-01 02:00:00</td>\n",
       "      <td>1056.247500</td>\n",
       "    </tr>\n",
       "    <tr>\n",
       "      <th>3</th>\n",
       "      <td>2008-03-01 03:00:00</td>\n",
       "      <td>1034.742000</td>\n",
       "    </tr>\n",
       "    <tr>\n",
       "      <th>4</th>\n",
       "      <td>2008-03-01 04:00:00</td>\n",
       "      <td>1026.334500</td>\n",
       "    </tr>\n",
       "    <tr>\n",
       "      <th>...</th>\n",
       "      <td>...</td>\n",
       "      <td>...</td>\n",
       "    </tr>\n",
       "    <tr>\n",
       "      <th>94987</th>\n",
       "      <td>2018-12-31 19:00:00</td>\n",
       "      <td>2528.446800</td>\n",
       "    </tr>\n",
       "    <tr>\n",
       "      <th>94988</th>\n",
       "      <td>2018-12-31 20:00:00</td>\n",
       "      <td>2461.883600</td>\n",
       "    </tr>\n",
       "    <tr>\n",
       "      <th>94989</th>\n",
       "      <td>2018-12-31 21:00:00</td>\n",
       "      <td>2365.994400</td>\n",
       "    </tr>\n",
       "    <tr>\n",
       "      <th>94990</th>\n",
       "      <td>2018-12-31 22:00:00</td>\n",
       "      <td>2342.942800</td>\n",
       "    </tr>\n",
       "    <tr>\n",
       "      <th>94991</th>\n",
       "      <td>2018-12-31 23:00:00</td>\n",
       "      <td>2180.217600</td>\n",
       "    </tr>\n",
       "  </tbody>\n",
       "</table>\n",
       "<p>94992 rows × 2 columns</p>\n",
       "</div>"
      ],
      "text/plain": [
       "                 datetime       energy\n",
       "0     2008-03-01 00:00:00  1259.985563\n",
       "1     2008-03-01 01:00:00  1095.541500\n",
       "2     2008-03-01 02:00:00  1056.247500\n",
       "3     2008-03-01 03:00:00  1034.742000\n",
       "4     2008-03-01 04:00:00  1026.334500\n",
       "...                   ...          ...\n",
       "94987 2018-12-31 19:00:00  2528.446800\n",
       "94988 2018-12-31 20:00:00  2461.883600\n",
       "94989 2018-12-31 21:00:00  2365.994400\n",
       "94990 2018-12-31 22:00:00  2342.942800\n",
       "94991 2018-12-31 23:00:00  2180.217600\n",
       "\n",
       "[94992 rows x 2 columns]"
      ]
     },
     "execution_count": 40,
     "metadata": {},
     "output_type": "execute_result"
    }
   ],
   "source": [
    "main_df = df[['datetime','energy']]\n",
    "main_df\n"
   ]
  },
  {
   "cell_type": "code",
   "execution_count": null,
   "metadata": {},
   "outputs": [],
   "source": [
    "main_df.dropna(inplace=True)"
   ]
  },
  {
   "cell_type": "code",
   "execution_count": 39,
   "metadata": {},
   "outputs": [],
   "source": [
    "main_df"
   ]
  },
  {
   "cell_type": "code",
   "execution_count": 34,
   "metadata": {},
   "outputs": [
    {
     "data": {
      "text/plain": [
       "[<matplotlib.lines.Line2D at 0x190fd822ad0>,\n",
       " <matplotlib.lines.Line2D at 0x190fa3bc9d0>]"
      ]
     },
     "execution_count": 34,
     "metadata": {},
     "output_type": "execute_result"
    },
    {
     "data": {
      "image/png": "[encoded data removed]",
      "text/plain": [
       "<Figure size 432x288 with 1 Axes>"
      ]
     },
     "metadata": {
      "needs_background": "light"
     },
     "output_type": "display_data"
    }
   ],
   "source": [
    "plt.plot(main_df)"
   ]
  },
  {
   "cell_type": "code",
   "execution_count": 13,
   "metadata": {},
   "outputs": [
    {
     "data": {
      "text/plain": [
       "0        1259.985563\n",
       "1        1095.541500\n",
       "2        1056.247500\n",
       "3        1034.742000\n",
       "4        1026.334500\n",
       "            ...     \n",
       "94987    2528.446800\n",
       "94988    2461.883600\n",
       "94989    2365.994400\n",
       "94990    2342.942800\n",
       "94991    2180.217600\n",
       "Name: energy, Length: 94992, dtype: float64"
      ]
     },
     "execution_count": 13,
     "metadata": {},
     "output_type": "execute_result"
    }
   ],
   "source": [
    "df1 = df['energy']\n",
    "df1"
   ]
  },
  {
   "cell_type": "code",
   "execution_count": 17,
   "metadata": {},
   "outputs": [
    {
     "data": {
      "text/plain": [
       "1900"
      ]
     },
     "execution_count": 17,
     "metadata": {},
     "output_type": "execute_result"
    }
   ],
   "source": [
    "df1.isnull().sum()"
   ]
  },
  {
   "cell_type": "code",
   "execution_count": 14,
   "metadata": {},
   "outputs": [
    {
     "data": {
      "text/plain": [
       "array([[0.1569359 ],\n",
       "       [0.09136838],\n",
       "       [0.07570098],\n",
       "       ...,\n",
       "       [0.59792632],\n",
       "       [0.58873514],\n",
       "       [0.52385297]])"
      ]
     },
     "execution_count": 14,
     "metadata": {},
     "output_type": "execute_result"
    }
   ],
   "source": [
    "scale_df1 = scaler.fit_transform(np.array(df1).reshape(-1,1))\n",
    "scale_df1"
   ]
  },
  {
   "cell_type": "code",
   "execution_count": 16,
   "metadata": {},
   "outputs": [
    {
     "data": {
      "text/plain": [
       "[<matplotlib.lines.Line2D at 0x190f41cda20>]"
      ]
     },
     "execution_count": 16,
     "metadata": {},
     "output_type": "execute_result"
    },
    {
     "data": {
      "image/png": "[encoded data removed]",
      "text/plain": [
       "<Figure size 432x288 with 1 Axes>"
      ]
     },
     "metadata": {
      "needs_background": "light"
     },
     "output_type": "display_data"
    }
   ],
   "source": [
    "plt.plot(scale_df1)"
   ]
  },
  {
   "cell_type": "code",
   "execution_count": 32,
   "metadata": {},
   "outputs": [],
   "source": [
    "from statsmodels.tsa.stattools import adfuller"
   ]
  },
  {
   "cell_type": "code",
   "execution_count": 42,
   "metadata": {},
   "outputs": [],
   "source": [
    "def adfuller_test(energy):\n",
    "    result = adfuller(energy)\n",
    "    labels = ['ADF Test Statistics', 'p-value', '#Lags used', '#Obsrvations used']\n",
    "    for value, label in zip(result, labels):\n",
    "        print(label+' : '+str(value))"
   ]
  },
  {
   "cell_type": "code",
   "execution_count": 46,
   "metadata": {},
   "outputs": [
    {
     "name": "stdout",
     "output_type": "stream",
     "text": [
      "ADF Test Statistics : -9.527076482286162\n",
      "p-value : 2.9581209881160637e-16\n",
      "#Lags used : 67\n",
      "#Obsrvations used : 93024\n"
     ]
    }
   ],
   "source": [
    "adfuller_test(main_df['energy'].dropna())"
   ]
  },
  {
   "cell_type": "code",
   "execution_count": 44,
   "metadata": {},
   "outputs": [],
   "source": [
    "import statsmodels.api as sm\n",
    "model = sm.tsa.statespace.SARIMAX(main_df['energy'], order=(1, 1, 1), seasonal_order=(1, 1, 1, 12))\n",
    "results = model.fit()"
   ]
  },
  {
   "cell_type": "code",
   "execution_count": 62,
   "metadata": {},
   "outputs": [
    {
     "data": {
      "text/plain": [
       "121297"
      ]
     },
     "execution_count": 62,
     "metadata": {},
     "output_type": "execute_result"
    }
   ],
   "source": [
    "94993+26304"
   ]
  },
  {
   "cell_type": "code",
   "execution_count": 76,
   "metadata": {},
   "outputs": [],
   "source": [
    "df2 = df.copy()\n",
    "df2.drop(['row_id'], axis = 1, inplace = True)"
   ]
  },
  {
   "cell_type": "code",
   "execution_count": 77,
   "metadata": {},
   "outputs": [
    {
     "data": {
      "text/html": [
       "<div>\n",
       "<style scoped>\n",
       "    .dataframe tbody tr th:only-of-type {\n",
       "        vertical-align: middle;\n",
       "    }\n",
       "\n",
       "    .dataframe tbody tr th {\n",
       "        vertical-align: top;\n",
       "    }\n",
       "\n",
       "    .dataframe thead th {\n",
       "        text-align: right;\n",
       "    }\n",
       "</style>\n",
       "<table border=\"1\" class=\"dataframe\">\n",
       "  <thead>\n",
       "    <tr style=\"text-align: right;\">\n",
       "      <th></th>\n",
       "      <th>datetime</th>\n",
       "      <th>energy</th>\n",
       "    </tr>\n",
       "  </thead>\n",
       "  <tbody>\n",
       "    <tr>\n",
       "      <th>0</th>\n",
       "      <td>2008-03-01 00:00:00</td>\n",
       "      <td>1259.985563</td>\n",
       "    </tr>\n",
       "    <tr>\n",
       "      <th>1</th>\n",
       "      <td>2008-03-01 01:00:00</td>\n",
       "      <td>1095.541500</td>\n",
       "    </tr>\n",
       "    <tr>\n",
       "      <th>2</th>\n",
       "      <td>2008-03-01 02:00:00</td>\n",
       "      <td>1056.247500</td>\n",
       "    </tr>\n",
       "    <tr>\n",
       "      <th>3</th>\n",
       "      <td>2008-03-01 03:00:00</td>\n",
       "      <td>1034.742000</td>\n",
       "    </tr>\n",
       "    <tr>\n",
       "      <th>4</th>\n",
       "      <td>2008-03-01 04:00:00</td>\n",
       "      <td>1026.334500</td>\n",
       "    </tr>\n",
       "    <tr>\n",
       "      <th>...</th>\n",
       "      <td>...</td>\n",
       "      <td>...</td>\n",
       "    </tr>\n",
       "    <tr>\n",
       "      <th>94987</th>\n",
       "      <td>2018-12-31 19:00:00</td>\n",
       "      <td>2528.446800</td>\n",
       "    </tr>\n",
       "    <tr>\n",
       "      <th>94988</th>\n",
       "      <td>2018-12-31 20:00:00</td>\n",
       "      <td>2461.883600</td>\n",
       "    </tr>\n",
       "    <tr>\n",
       "      <th>94989</th>\n",
       "      <td>2018-12-31 21:00:00</td>\n",
       "      <td>2365.994400</td>\n",
       "    </tr>\n",
       "    <tr>\n",
       "      <th>94990</th>\n",
       "      <td>2018-12-31 22:00:00</td>\n",
       "      <td>2342.942800</td>\n",
       "    </tr>\n",
       "    <tr>\n",
       "      <th>94991</th>\n",
       "      <td>2018-12-31 23:00:00</td>\n",
       "      <td>2180.217600</td>\n",
       "    </tr>\n",
       "  </tbody>\n",
       "</table>\n",
       "<p>94992 rows × 2 columns</p>\n",
       "</div>"
      ],
      "text/plain": [
       "                  datetime       energy\n",
       "0      2008-03-01 00:00:00  1259.985563\n",
       "1      2008-03-01 01:00:00  1095.541500\n",
       "2      2008-03-01 02:00:00  1056.247500\n",
       "3      2008-03-01 03:00:00  1034.742000\n",
       "4      2008-03-01 04:00:00  1026.334500\n",
       "...                    ...          ...\n",
       "94987  2018-12-31 19:00:00  2528.446800\n",
       "94988  2018-12-31 20:00:00  2461.883600\n",
       "94989  2018-12-31 21:00:00  2365.994400\n",
       "94990  2018-12-31 22:00:00  2342.942800\n",
       "94991  2018-12-31 23:00:00  2180.217600\n",
       "\n",
       "[94992 rows x 2 columns]"
      ]
     },
     "execution_count": 77,
     "metadata": {},
     "output_type": "execute_result"
    }
   ],
   "source": [
    "df2"
   ]
  },
  {
   "cell_type": "code",
   "execution_count": 78,
   "metadata": {},
   "outputs": [],
   "source": [
    "test_df2 = test_df.copy()\n",
    "test_df2.drop(['row_id'], axis = 1, inplace = True)"
   ]
  },
  {
   "cell_type": "code",
   "execution_count": 79,
   "metadata": {},
   "outputs": [
    {
     "data": {
      "text/html": [
       "<div>\n",
       "<style scoped>\n",
       "    .dataframe tbody tr th:only-of-type {\n",
       "        vertical-align: middle;\n",
       "    }\n",
       "\n",
       "    .dataframe tbody tr th {\n",
       "        vertical-align: top;\n",
       "    }\n",
       "\n",
       "    .dataframe thead th {\n",
       "        text-align: right;\n",
       "    }\n",
       "</style>\n",
       "<table border=\"1\" class=\"dataframe\">\n",
       "  <thead>\n",
       "    <tr style=\"text-align: right;\">\n",
       "      <th></th>\n",
       "      <th>datetime</th>\n",
       "    </tr>\n",
       "  </thead>\n",
       "  <tbody>\n",
       "    <tr>\n",
       "      <th>0</th>\n",
       "      <td>2019-01-01 00:00:00</td>\n",
       "    </tr>\n",
       "    <tr>\n",
       "      <th>1</th>\n",
       "      <td>2019-01-01 01:00:00</td>\n",
       "    </tr>\n",
       "    <tr>\n",
       "      <th>2</th>\n",
       "      <td>2019-01-01 02:00:00</td>\n",
       "    </tr>\n",
       "    <tr>\n",
       "      <th>3</th>\n",
       "      <td>2019-01-01 03:00:00</td>\n",
       "    </tr>\n",
       "    <tr>\n",
       "      <th>4</th>\n",
       "      <td>2019-01-01 04:00:00</td>\n",
       "    </tr>\n",
       "    <tr>\n",
       "      <th>...</th>\n",
       "      <td>...</td>\n",
       "    </tr>\n",
       "    <tr>\n",
       "      <th>26299</th>\n",
       "      <td>2021-12-31 19:00:00</td>\n",
       "    </tr>\n",
       "    <tr>\n",
       "      <th>26300</th>\n",
       "      <td>2021-12-31 20:00:00</td>\n",
       "    </tr>\n",
       "    <tr>\n",
       "      <th>26301</th>\n",
       "      <td>2021-12-31 21:00:00</td>\n",
       "    </tr>\n",
       "    <tr>\n",
       "      <th>26302</th>\n",
       "      <td>2021-12-31 22:00:00</td>\n",
       "    </tr>\n",
       "    <tr>\n",
       "      <th>26303</th>\n",
       "      <td>2021-12-31 23:00:00</td>\n",
       "    </tr>\n",
       "  </tbody>\n",
       "</table>\n",
       "<p>26304 rows × 1 columns</p>\n",
       "</div>"
      ],
      "text/plain": [
       "                  datetime\n",
       "0      2019-01-01 00:00:00\n",
       "1      2019-01-01 01:00:00\n",
       "2      2019-01-01 02:00:00\n",
       "3      2019-01-01 03:00:00\n",
       "4      2019-01-01 04:00:00\n",
       "...                    ...\n",
       "26299  2021-12-31 19:00:00\n",
       "26300  2021-12-31 20:00:00\n",
       "26301  2021-12-31 21:00:00\n",
       "26302  2021-12-31 22:00:00\n",
       "26303  2021-12-31 23:00:00\n",
       "\n",
       "[26304 rows x 1 columns]"
      ]
     },
     "execution_count": 79,
     "metadata": {},
     "output_type": "execute_result"
    }
   ],
   "source": [
    "test_df2"
   ]
  },
  {
   "cell_type": "code",
   "execution_count": 81,
   "metadata": {},
   "outputs": [],
   "source": [
    "combi_df = pd.concat([df2, test_df2], axis=0)\n",
    "combi_df.reset_index(drop=True, inplace=True)"
   ]
  },
  {
   "cell_type": "code",
   "execution_count": 82,
   "metadata": {},
   "outputs": [
    {
     "data": {
      "text/html": [
       "<div>\n",
       "<style scoped>\n",
       "    .dataframe tbody tr th:only-of-type {\n",
       "        vertical-align: middle;\n",
       "    }\n",
       "\n",
       "    .dataframe tbody tr th {\n",
       "        vertical-align: top;\n",
       "    }\n",
       "\n",
       "    .dataframe thead th {\n",
       "        text-align: right;\n",
       "    }\n",
       "</style>\n",
       "<table border=\"1\" class=\"dataframe\">\n",
       "  <thead>\n",
       "    <tr style=\"text-align: right;\">\n",
       "      <th></th>\n",
       "      <th>datetime</th>\n",
       "      <th>energy</th>\n",
       "    </tr>\n",
       "  </thead>\n",
       "  <tbody>\n",
       "    <tr>\n",
       "      <th>0</th>\n",
       "      <td>2008-03-01 00:00:00</td>\n",
       "      <td>1259.985563</td>\n",
       "    </tr>\n",
       "    <tr>\n",
       "      <th>1</th>\n",
       "      <td>2008-03-01 01:00:00</td>\n",
       "      <td>1095.541500</td>\n",
       "    </tr>\n",
       "    <tr>\n",
       "      <th>2</th>\n",
       "      <td>2008-03-01 02:00:00</td>\n",
       "      <td>1056.247500</td>\n",
       "    </tr>\n",
       "    <tr>\n",
       "      <th>3</th>\n",
       "      <td>2008-03-01 03:00:00</td>\n",
       "      <td>1034.742000</td>\n",
       "    </tr>\n",
       "    <tr>\n",
       "      <th>4</th>\n",
       "      <td>2008-03-01 04:00:00</td>\n",
       "      <td>1026.334500</td>\n",
       "    </tr>\n",
       "    <tr>\n",
       "      <th>...</th>\n",
       "      <td>...</td>\n",
       "      <td>...</td>\n",
       "    </tr>\n",
       "    <tr>\n",
       "      <th>121291</th>\n",
       "      <td>2021-12-31 19:00:00</td>\n",
       "      <td>NaN</td>\n",
       "    </tr>\n",
       "    <tr>\n",
       "      <th>121292</th>\n",
       "      <td>2021-12-31 20:00:00</td>\n",
       "      <td>NaN</td>\n",
       "    </tr>\n",
       "    <tr>\n",
       "      <th>121293</th>\n",
       "      <td>2021-12-31 21:00:00</td>\n",
       "      <td>NaN</td>\n",
       "    </tr>\n",
       "    <tr>\n",
       "      <th>121294</th>\n",
       "      <td>2021-12-31 22:00:00</td>\n",
       "      <td>NaN</td>\n",
       "    </tr>\n",
       "    <tr>\n",
       "      <th>121295</th>\n",
       "      <td>2021-12-31 23:00:00</td>\n",
       "      <td>NaN</td>\n",
       "    </tr>\n",
       "  </tbody>\n",
       "</table>\n",
       "<p>121296 rows × 2 columns</p>\n",
       "</div>"
      ],
      "text/plain": [
       "                   datetime       energy\n",
       "0       2008-03-01 00:00:00  1259.985563\n",
       "1       2008-03-01 01:00:00  1095.541500\n",
       "2       2008-03-01 02:00:00  1056.247500\n",
       "3       2008-03-01 03:00:00  1034.742000\n",
       "4       2008-03-01 04:00:00  1026.334500\n",
       "...                     ...          ...\n",
       "121291  2021-12-31 19:00:00          NaN\n",
       "121292  2021-12-31 20:00:00          NaN\n",
       "121293  2021-12-31 21:00:00          NaN\n",
       "121294  2021-12-31 22:00:00          NaN\n",
       "121295  2021-12-31 23:00:00          NaN\n",
       "\n",
       "[121296 rows x 2 columns]"
      ]
     },
     "execution_count": 82,
     "metadata": {},
     "output_type": "execute_result"
    }
   ],
   "source": [
    "combi_df"
   ]
  },
  {
   "cell_type": "code",
   "execution_count": 85,
   "metadata": {},
   "outputs": [],
   "source": [
    "combi_df['forecast_energy'] = results.predict(start=94992, end=121296, dynamic=True)"
   ]
  },
  {
   "cell_type": "code",
   "execution_count": 86,
   "metadata": {},
   "outputs": [
    {
     "data": {
      "text/html": [
       "<div>\n",
       "<style scoped>\n",
       "    .dataframe tbody tr th:only-of-type {\n",
       "        vertical-align: middle;\n",
       "    }\n",
       "\n",
       "    .dataframe tbody tr th {\n",
       "        vertical-align: top;\n",
       "    }\n",
       "\n",
       "    .dataframe thead th {\n",
       "        text-align: right;\n",
       "    }\n",
       "</style>\n",
       "<table border=\"1\" class=\"dataframe\">\n",
       "  <thead>\n",
       "    <tr style=\"text-align: right;\">\n",
       "      <th></th>\n",
       "      <th>datetime</th>\n",
       "      <th>energy</th>\n",
       "      <th>forecast_energy</th>\n",
       "    </tr>\n",
       "  </thead>\n",
       "  <tbody>\n",
       "    <tr>\n",
       "      <th>0</th>\n",
       "      <td>2008-03-01 00:00:00</td>\n",
       "      <td>1259.985563</td>\n",
       "      <td>NaN</td>\n",
       "    </tr>\n",
       "    <tr>\n",
       "      <th>1</th>\n",
       "      <td>2008-03-01 01:00:00</td>\n",
       "      <td>1095.541500</td>\n",
       "      <td>NaN</td>\n",
       "    </tr>\n",
       "    <tr>\n",
       "      <th>2</th>\n",
       "      <td>2008-03-01 02:00:00</td>\n",
       "      <td>1056.247500</td>\n",
       "      <td>NaN</td>\n",
       "    </tr>\n",
       "    <tr>\n",
       "      <th>3</th>\n",
       "      <td>2008-03-01 03:00:00</td>\n",
       "      <td>1034.742000</td>\n",
       "      <td>NaN</td>\n",
       "    </tr>\n",
       "    <tr>\n",
       "      <th>4</th>\n",
       "      <td>2008-03-01 04:00:00</td>\n",
       "      <td>1026.334500</td>\n",
       "      <td>NaN</td>\n",
       "    </tr>\n",
       "    <tr>\n",
       "      <th>...</th>\n",
       "      <td>...</td>\n",
       "      <td>...</td>\n",
       "      <td>...</td>\n",
       "    </tr>\n",
       "    <tr>\n",
       "      <th>121291</th>\n",
       "      <td>2021-12-31 19:00:00</td>\n",
       "      <td>NaN</td>\n",
       "      <td>0.0</td>\n",
       "    </tr>\n",
       "    <tr>\n",
       "      <th>121292</th>\n",
       "      <td>2021-12-31 20:00:00</td>\n",
       "      <td>NaN</td>\n",
       "      <td>0.0</td>\n",
       "    </tr>\n",
       "    <tr>\n",
       "      <th>121293</th>\n",
       "      <td>2021-12-31 21:00:00</td>\n",
       "      <td>NaN</td>\n",
       "      <td>0.0</td>\n",
       "    </tr>\n",
       "    <tr>\n",
       "      <th>121294</th>\n",
       "      <td>2021-12-31 22:00:00</td>\n",
       "      <td>NaN</td>\n",
       "      <td>0.0</td>\n",
       "    </tr>\n",
       "    <tr>\n",
       "      <th>121295</th>\n",
       "      <td>2021-12-31 23:00:00</td>\n",
       "      <td>NaN</td>\n",
       "      <td>0.0</td>\n",
       "    </tr>\n",
       "  </tbody>\n",
       "</table>\n",
       "<p>121296 rows × 3 columns</p>\n",
       "</div>"
      ],
      "text/plain": [
       "                   datetime       energy  forecast_energy\n",
       "0       2008-03-01 00:00:00  1259.985563              NaN\n",
       "1       2008-03-01 01:00:00  1095.541500              NaN\n",
       "2       2008-03-01 02:00:00  1056.247500              NaN\n",
       "3       2008-03-01 03:00:00  1034.742000              NaN\n",
       "4       2008-03-01 04:00:00  1026.334500              NaN\n",
       "...                     ...          ...              ...\n",
       "121291  2021-12-31 19:00:00          NaN              0.0\n",
       "121292  2021-12-31 20:00:00          NaN              0.0\n",
       "121293  2021-12-31 21:00:00          NaN              0.0\n",
       "121294  2021-12-31 22:00:00          NaN              0.0\n",
       "121295  2021-12-31 23:00:00          NaN              0.0\n",
       "\n",
       "[121296 rows x 3 columns]"
      ]
     },
     "execution_count": 86,
     "metadata": {},
     "output_type": "execute_result"
    }
   ],
   "source": [
    "combi_df"
   ]
  },
  {
   "cell_type": "code",
   "execution_count": 67,
   "metadata": {},
   "outputs": [],
   "source": [
    "combi_df.to_csv('combi_data.csv', index = False, encoding='utf-8')"
   ]
  },
  {
   "cell_type": "code",
   "execution_count": 48,
   "metadata": {},
   "outputs": [],
   "source": [
    "import seaborn as sns"
   ]
  },
  {
   "cell_type": "code",
   "execution_count": 49,
   "metadata": {},
   "outputs": [
    {
     "data": {
      "text/plain": [
       "<AxesSubplot:xlabel='datetime', ylabel='energy'>"
      ]
     },
     "execution_count": 49,
     "metadata": {},
     "output_type": "execute_result"
    },
    {
     "data": {
      "image/png": "[encoded data removed]",
      "text/plain": [
       "<Figure size 432x288 with 1 Axes>"
      ]
     },
     "metadata": {
      "needs_background": "light"
     },
     "output_type": "display_data"
    }
   ],
   "source": [
    "sns.lineplot(data=main_df, x=main_df.datetime, y=main_df.energy)"
   ]
  },
  {
   "cell_type": "code",
   "execution_count": 18,
   "metadata": {},
   "outputs": [],
   "source": [
    "from sklearn.model_selection import train_test_split"
   ]
  },
  {
   "cell_type": "code",
   "execution_count": 19,
   "metadata": {},
   "outputs": [],
   "source": [
    "X = df['datetime']\n",
    "y = df['energy']"
   ]
  },
  {
   "cell_type": "code",
   "execution_count": null,
   "metadata": {},
   "outputs": [],
   "source": [
    "X_train, X-test, y_train, y_test = train_test_split(X, y, test_size=0.35, random_state=42, shuffle=False, stratify=None)"
   ]
  },
  {
   "cell_type": "code",
   "execution_count": 90,
   "metadata": {},
   "outputs": [
    {
     "name": "stdout",
     "output_type": "stream",
     "text": [
      "<class 'pandas.core.frame.DataFrame'>\n",
      "RangeIndex: 94992 entries, 0 to 94991\n",
      "Data columns (total 3 columns):\n",
      " #   Column           Non-Null Count  Dtype         \n",
      "---  ------           --------------  -----         \n",
      " 0   datetime         94992 non-null  datetime64[ns]\n",
      " 1   energy           93092 non-null  float64       \n",
      " 2   forecast_energy  0 non-null      float64       \n",
      "dtypes: datetime64[ns](1), float64(2)\n",
      "memory usage: 2.2 MB\n"
     ]
    }
   ],
   "source": [
    "main_df.info()"
   ]
  },
  {
   "cell_type": "code",
   "execution_count": 91,
   "metadata": {},
   "outputs": [],
   "source": [
    "main_copy = main_df.copy()"
   ]
  },
  {
   "cell_type": "code",
   "execution_count": 99,
   "metadata": {},
   "outputs": [
    {
     "name": "stdout",
     "output_type": "stream",
     "text": [
      "<class 'pandas.core.frame.DataFrame'>\n",
      "Int64Index: 93092 entries, 0 to 94991\n",
      "Data columns (total 2 columns):\n",
      " #   Column    Non-Null Count  Dtype         \n",
      "---  ------    --------------  -----         \n",
      " 0   datetime  93092 non-null  datetime64[ns]\n",
      " 1   energy    93092 non-null  float64       \n",
      "dtypes: datetime64[ns](1), float64(1)\n",
      "memory usage: 2.1 MB\n"
     ]
    }
   ],
   "source": [
    "main_copy.info()"
   ]
  },
  {
   "cell_type": "code",
   "execution_count": 95,
   "metadata": {},
   "outputs": [],
   "source": [
    "main_copy.drop(['forecast_energy'], axis=1, inplace=True)"
   ]
  },
  {
   "cell_type": "code",
   "execution_count": 98,
   "metadata": {},
   "outputs": [],
   "source": [
    "main_copy.dropna(inplace=True)"
   ]
  },
  {
   "cell_type": "code",
   "execution_count": 100,
   "metadata": {},
   "outputs": [
    {
     "data": {
      "text/html": [
       "<div>\n",
       "<style scoped>\n",
       "    .dataframe tbody tr th:only-of-type {\n",
       "        vertical-align: middle;\n",
       "    }\n",
       "\n",
       "    .dataframe tbody tr th {\n",
       "        vertical-align: top;\n",
       "    }\n",
       "\n",
       "    .dataframe thead th {\n",
       "        text-align: right;\n",
       "    }\n",
       "</style>\n",
       "<table border=\"1\" class=\"dataframe\">\n",
       "  <thead>\n",
       "    <tr style=\"text-align: right;\">\n",
       "      <th></th>\n",
       "      <th>ds</th>\n",
       "      <th>y</th>\n",
       "    </tr>\n",
       "  </thead>\n",
       "  <tbody>\n",
       "    <tr>\n",
       "      <th>0</th>\n",
       "      <td>2008-03-01 00:00:00</td>\n",
       "      <td>1259.985563</td>\n",
       "    </tr>\n",
       "    <tr>\n",
       "      <th>1</th>\n",
       "      <td>2008-03-01 01:00:00</td>\n",
       "      <td>1095.541500</td>\n",
       "    </tr>\n",
       "    <tr>\n",
       "      <th>2</th>\n",
       "      <td>2008-03-01 02:00:00</td>\n",
       "      <td>1056.247500</td>\n",
       "    </tr>\n",
       "    <tr>\n",
       "      <th>3</th>\n",
       "      <td>2008-03-01 03:00:00</td>\n",
       "      <td>1034.742000</td>\n",
       "    </tr>\n",
       "    <tr>\n",
       "      <th>4</th>\n",
       "      <td>2008-03-01 04:00:00</td>\n",
       "      <td>1026.334500</td>\n",
       "    </tr>\n",
       "  </tbody>\n",
       "</table>\n",
       "</div>"
      ],
      "text/plain": [
       "                   ds            y\n",
       "0 2008-03-01 00:00:00  1259.985563\n",
       "1 2008-03-01 01:00:00  1095.541500\n",
       "2 2008-03-01 02:00:00  1056.247500\n",
       "3 2008-03-01 03:00:00  1034.742000\n",
       "4 2008-03-01 04:00:00  1026.334500"
      ]
     },
     "execution_count": 100,
     "metadata": {},
     "output_type": "execute_result"
    }
   ],
   "source": [
    "main_copy.columns = ['ds', 'y']\n",
    "main_copy.head()"
   ]
  },
  {
   "cell_type": "code",
   "execution_count": 106,
   "metadata": {},
   "outputs": [],
   "source": [
    "from prophet import Prophet"
   ]
  },
  {
   "cell_type": "code",
   "execution_count": 107,
   "metadata": {},
   "outputs": [],
   "source": [
    "model = Prophet()"
   ]
  },
  {
   "cell_type": "code",
   "execution_count": 109,
   "metadata": {},
   "outputs": [
    {
     "data": {
      "text/plain": [
       "Index(['ds', 'y'], dtype='object')"
      ]
     },
     "execution_count": 109,
     "metadata": {},
     "output_type": "execute_result"
    }
   ],
   "source": [
    "main_copy.columns"
   ]
  },
  {
   "cell_type": "code",
   "execution_count": 110,
   "metadata": {},
   "outputs": [
    {
     "name": "stderr",
     "output_type": "stream",
     "text": [
      "19:47:37 - cmdstanpy - INFO - Chain [1] start processing\n",
      "19:50:17 - cmdstanpy - INFO - Chain [1] done processing\n"
     ]
    },
    {
     "data": {
      "text/plain": [
       "<prophet.forecaster.Prophet at 0x190a2e62920>"
      ]
     },
     "execution_count": 110,
     "metadata": {},
     "output_type": "execute_result"
    }
   ],
   "source": [
    "model.fit(main_copy)"
   ]
  },
  {
   "cell_type": "code",
   "execution_count": 111,
   "metadata": {},
   "outputs": [
    {
     "data": {
      "text/plain": [
       "{'additive': ['yearly',\n",
       "  'weekly',\n",
       "  'daily',\n",
       "  'additive_terms',\n",
       "  'extra_regressors_additive',\n",
       "  'holidays'],\n",
       " 'multiplicative': ['multiplicative_terms', 'extra_regressors_multiplicative']}"
      ]
     },
     "execution_count": 111,
     "metadata": {},
     "output_type": "execute_result"
    }
   ],
   "source": [
    "model.component_modes"
   ]
  },
  {
   "cell_type": "code",
   "execution_count": 112,
   "metadata": {},
   "outputs": [
    {
     "data": {
      "text/html": [
       "<div>\n",
       "<style scoped>\n",
       "    .dataframe tbody tr th:only-of-type {\n",
       "        vertical-align: middle;\n",
       "    }\n",
       "\n",
       "    .dataframe tbody tr th {\n",
       "        vertical-align: top;\n",
       "    }\n",
       "\n",
       "    .dataframe thead th {\n",
       "        text-align: right;\n",
       "    }\n",
       "</style>\n",
       "<table border=\"1\" class=\"dataframe\">\n",
       "  <thead>\n",
       "    <tr style=\"text-align: right;\">\n",
       "      <th></th>\n",
       "      <th>ds</th>\n",
       "    </tr>\n",
       "  </thead>\n",
       "  <tbody>\n",
       "    <tr>\n",
       "      <th>0</th>\n",
       "      <td>2008-03-01 00:00:00</td>\n",
       "    </tr>\n",
       "    <tr>\n",
       "      <th>1</th>\n",
       "      <td>2008-03-01 01:00:00</td>\n",
       "    </tr>\n",
       "    <tr>\n",
       "      <th>2</th>\n",
       "      <td>2008-03-01 02:00:00</td>\n",
       "    </tr>\n",
       "    <tr>\n",
       "      <th>3</th>\n",
       "      <td>2008-03-01 03:00:00</td>\n",
       "    </tr>\n",
       "    <tr>\n",
       "      <th>4</th>\n",
       "      <td>2008-03-01 04:00:00</td>\n",
       "    </tr>\n",
       "    <tr>\n",
       "      <th>...</th>\n",
       "      <td>...</td>\n",
       "    </tr>\n",
       "    <tr>\n",
       "      <th>93452</th>\n",
       "      <td>2019-12-27 23:00:00</td>\n",
       "    </tr>\n",
       "    <tr>\n",
       "      <th>93453</th>\n",
       "      <td>2019-12-28 23:00:00</td>\n",
       "    </tr>\n",
       "    <tr>\n",
       "      <th>93454</th>\n",
       "      <td>2019-12-29 23:00:00</td>\n",
       "    </tr>\n",
       "    <tr>\n",
       "      <th>93455</th>\n",
       "      <td>2019-12-30 23:00:00</td>\n",
       "    </tr>\n",
       "    <tr>\n",
       "      <th>93456</th>\n",
       "      <td>2019-12-31 23:00:00</td>\n",
       "    </tr>\n",
       "  </tbody>\n",
       "</table>\n",
       "<p>93457 rows × 1 columns</p>\n",
       "</div>"
      ],
      "text/plain": [
       "                       ds\n",
       "0     2008-03-01 00:00:00\n",
       "1     2008-03-01 01:00:00\n",
       "2     2008-03-01 02:00:00\n",
       "3     2008-03-01 03:00:00\n",
       "4     2008-03-01 04:00:00\n",
       "...                   ...\n",
       "93452 2019-12-27 23:00:00\n",
       "93453 2019-12-28 23:00:00\n",
       "93454 2019-12-29 23:00:00\n",
       "93455 2019-12-30 23:00:00\n",
       "93456 2019-12-31 23:00:00\n",
       "\n",
       "[93457 rows x 1 columns]"
      ]
     },
     "execution_count": 112,
     "metadata": {},
     "output_type": "execute_result"
    }
   ],
   "source": [
    "future_dates = model.make_future_dataframe(periods=365)\n",
    "future_dates"
   ]
  },
  {
   "cell_type": "code",
   "execution_count": 113,
   "metadata": {},
   "outputs": [],
   "source": [
    "prediction = model.predict(future_dates)"
   ]
  },
  {
   "cell_type": "code",
   "execution_count": 114,
   "metadata": {},
   "outputs": [
    {
     "data": {
      "text/html": [
       "<div>\n",
       "<style scoped>\n",
       "    .dataframe tbody tr th:only-of-type {\n",
       "        vertical-align: middle;\n",
       "    }\n",
       "\n",
       "    .dataframe tbody tr th {\n",
       "        vertical-align: top;\n",
       "    }\n",
       "\n",
       "    .dataframe thead th {\n",
       "        text-align: right;\n",
       "    }\n",
       "</style>\n",
       "<table border=\"1\" class=\"dataframe\">\n",
       "  <thead>\n",
       "    <tr style=\"text-align: right;\">\n",
       "      <th></th>\n",
       "      <th>ds</th>\n",
       "      <th>trend</th>\n",
       "      <th>yhat_lower</th>\n",
       "      <th>yhat_upper</th>\n",
       "      <th>trend_lower</th>\n",
       "      <th>trend_upper</th>\n",
       "      <th>additive_terms</th>\n",
       "      <th>additive_terms_lower</th>\n",
       "      <th>additive_terms_upper</th>\n",
       "      <th>daily</th>\n",
       "      <th>...</th>\n",
       "      <th>weekly</th>\n",
       "      <th>weekly_lower</th>\n",
       "      <th>weekly_upper</th>\n",
       "      <th>yearly</th>\n",
       "      <th>yearly_lower</th>\n",
       "      <th>yearly_upper</th>\n",
       "      <th>multiplicative_terms</th>\n",
       "      <th>multiplicative_terms_lower</th>\n",
       "      <th>multiplicative_terms_upper</th>\n",
       "      <th>yhat</th>\n",
       "    </tr>\n",
       "  </thead>\n",
       "  <tbody>\n",
       "    <tr>\n",
       "      <th>0</th>\n",
       "      <td>2008-03-01 00:00:00</td>\n",
       "      <td>1453.340410</td>\n",
       "      <td>976.820098</td>\n",
       "      <td>1434.068834</td>\n",
       "      <td>1453.340410</td>\n",
       "      <td>1453.340410</td>\n",
       "      <td>-241.657707</td>\n",
       "      <td>-241.657707</td>\n",
       "      <td>-241.657707</td>\n",
       "      <td>-80.547998</td>\n",
       "      <td>...</td>\n",
       "      <td>54.723680</td>\n",
       "      <td>54.723680</td>\n",
       "      <td>54.723680</td>\n",
       "      <td>-215.833389</td>\n",
       "      <td>-215.833389</td>\n",
       "      <td>-215.833389</td>\n",
       "      <td>0.0</td>\n",
       "      <td>0.0</td>\n",
       "      <td>0.0</td>\n",
       "      <td>1211.682703</td>\n",
       "    </tr>\n",
       "    <tr>\n",
       "      <th>1</th>\n",
       "      <td>2008-03-01 01:00:00</td>\n",
       "      <td>1453.283656</td>\n",
       "      <td>903.670083</td>\n",
       "      <td>1359.315597</td>\n",
       "      <td>1453.283656</td>\n",
       "      <td>1453.283656</td>\n",
       "      <td>-326.670354</td>\n",
       "      <td>-326.670354</td>\n",
       "      <td>-326.670354</td>\n",
       "      <td>-164.331117</td>\n",
       "      <td>...</td>\n",
       "      <td>53.610363</td>\n",
       "      <td>53.610363</td>\n",
       "      <td>53.610363</td>\n",
       "      <td>-215.949600</td>\n",
       "      <td>-215.949600</td>\n",
       "      <td>-215.949600</td>\n",
       "      <td>0.0</td>\n",
       "      <td>0.0</td>\n",
       "      <td>0.0</td>\n",
       "      <td>1126.613302</td>\n",
       "    </tr>\n",
       "    <tr>\n",
       "      <th>2</th>\n",
       "      <td>2008-03-01 02:00:00</td>\n",
       "      <td>1453.226901</td>\n",
       "      <td>853.967725</td>\n",
       "      <td>1295.760936</td>\n",
       "      <td>1453.226901</td>\n",
       "      <td>1453.226901</td>\n",
       "      <td>-391.426593</td>\n",
       "      <td>-391.426593</td>\n",
       "      <td>-391.426593</td>\n",
       "      <td>-227.763227</td>\n",
       "      <td>...</td>\n",
       "      <td>52.402375</td>\n",
       "      <td>52.402375</td>\n",
       "      <td>52.402375</td>\n",
       "      <td>-216.065741</td>\n",
       "      <td>-216.065741</td>\n",
       "      <td>-216.065741</td>\n",
       "      <td>0.0</td>\n",
       "      <td>0.0</td>\n",
       "      <td>0.0</td>\n",
       "      <td>1061.800308</td>\n",
       "    </tr>\n",
       "    <tr>\n",
       "      <th>3</th>\n",
       "      <td>2008-03-01 03:00:00</td>\n",
       "      <td>1453.170146</td>\n",
       "      <td>801.117663</td>\n",
       "      <td>1261.884319</td>\n",
       "      <td>1453.170146</td>\n",
       "      <td>1453.170146</td>\n",
       "      <td>-429.215658</td>\n",
       "      <td>-429.215658</td>\n",
       "      <td>-429.215658</td>\n",
       "      <td>-264.123236</td>\n",
       "      <td>...</td>\n",
       "      <td>51.089389</td>\n",
       "      <td>51.089389</td>\n",
       "      <td>51.089389</td>\n",
       "      <td>-216.181811</td>\n",
       "      <td>-216.181811</td>\n",
       "      <td>-216.181811</td>\n",
       "      <td>0.0</td>\n",
       "      <td>0.0</td>\n",
       "      <td>0.0</td>\n",
       "      <td>1023.954489</td>\n",
       "    </tr>\n",
       "    <tr>\n",
       "      <th>4</th>\n",
       "      <td>2008-03-01 04:00:00</td>\n",
       "      <td>1453.113392</td>\n",
       "      <td>794.353559</td>\n",
       "      <td>1235.621966</td>\n",
       "      <td>1453.113392</td>\n",
       "      <td>1453.113392</td>\n",
       "      <td>-434.846623</td>\n",
       "      <td>-434.846623</td>\n",
       "      <td>-434.846623</td>\n",
       "      <td>-268.209066</td>\n",
       "      <td>...</td>\n",
       "      <td>49.660249</td>\n",
       "      <td>49.660249</td>\n",
       "      <td>49.660249</td>\n",
       "      <td>-216.297807</td>\n",
       "      <td>-216.297807</td>\n",
       "      <td>-216.297807</td>\n",
       "      <td>0.0</td>\n",
       "      <td>0.0</td>\n",
       "      <td>0.0</td>\n",
       "      <td>1018.266768</td>\n",
       "    </tr>\n",
       "    <tr>\n",
       "      <th>...</th>\n",
       "      <td>...</td>\n",
       "      <td>...</td>\n",
       "      <td>...</td>\n",
       "      <td>...</td>\n",
       "      <td>...</td>\n",
       "      <td>...</td>\n",
       "      <td>...</td>\n",
       "      <td>...</td>\n",
       "      <td>...</td>\n",
       "      <td>...</td>\n",
       "      <td>...</td>\n",
       "      <td>...</td>\n",
       "      <td>...</td>\n",
       "      <td>...</td>\n",
       "      <td>...</td>\n",
       "      <td>...</td>\n",
       "      <td>...</td>\n",
       "      <td>...</td>\n",
       "      <td>...</td>\n",
       "      <td>...</td>\n",
       "      <td>...</td>\n",
       "    </tr>\n",
       "    <tr>\n",
       "      <th>93452</th>\n",
       "      <td>2019-12-27 23:00:00</td>\n",
       "      <td>2127.037845</td>\n",
       "      <td>1835.875806</td>\n",
       "      <td>2794.801483</td>\n",
       "      <td>1696.784417</td>\n",
       "      <td>2554.396559</td>\n",
       "      <td>192.918528</td>\n",
       "      <td>192.918528</td>\n",
       "      <td>192.918528</td>\n",
       "      <td>11.396977</td>\n",
       "      <td>...</td>\n",
       "      <td>55.751723</td>\n",
       "      <td>55.751723</td>\n",
       "      <td>55.751723</td>\n",
       "      <td>125.769828</td>\n",
       "      <td>125.769828</td>\n",
       "      <td>125.769828</td>\n",
       "      <td>0.0</td>\n",
       "      <td>0.0</td>\n",
       "      <td>0.0</td>\n",
       "      <td>2319.956373</td>\n",
       "    </tr>\n",
       "    <tr>\n",
       "      <th>93453</th>\n",
       "      <td>2019-12-28 23:00:00</td>\n",
       "      <td>2127.207012</td>\n",
       "      <td>1763.156052</td>\n",
       "      <td>2717.686649</td>\n",
       "      <td>1693.374345</td>\n",
       "      <td>2556.560766</td>\n",
       "      <td>117.763995</td>\n",
       "      <td>117.763995</td>\n",
       "      <td>117.763995</td>\n",
       "      <td>11.396977</td>\n",
       "      <td>...</td>\n",
       "      <td>-14.811377</td>\n",
       "      <td>-14.811377</td>\n",
       "      <td>-14.811377</td>\n",
       "      <td>121.178395</td>\n",
       "      <td>121.178395</td>\n",
       "      <td>121.178395</td>\n",
       "      <td>0.0</td>\n",
       "      <td>0.0</td>\n",
       "      <td>0.0</td>\n",
       "      <td>2244.971007</td>\n",
       "    </tr>\n",
       "    <tr>\n",
       "      <th>93454</th>\n",
       "      <td>2019-12-29 23:00:00</td>\n",
       "      <td>2127.376178</td>\n",
       "      <td>1616.222443</td>\n",
       "      <td>2560.109753</td>\n",
       "      <td>1690.129909</td>\n",
       "      <td>2558.568140</td>\n",
       "      <td>-31.634364</td>\n",
       "      <td>-31.634364</td>\n",
       "      <td>-31.634364</td>\n",
       "      <td>11.396977</td>\n",
       "      <td>...</td>\n",
       "      <td>-159.222627</td>\n",
       "      <td>-159.222627</td>\n",
       "      <td>-159.222627</td>\n",
       "      <td>116.191286</td>\n",
       "      <td>116.191286</td>\n",
       "      <td>116.191286</td>\n",
       "      <td>0.0</td>\n",
       "      <td>0.0</td>\n",
       "      <td>0.0</td>\n",
       "      <td>2095.741815</td>\n",
       "    </tr>\n",
       "    <tr>\n",
       "      <th>93455</th>\n",
       "      <td>2019-12-30 23:00:00</td>\n",
       "      <td>2127.545345</td>\n",
       "      <td>1687.605086</td>\n",
       "      <td>2629.041118</td>\n",
       "      <td>1686.885473</td>\n",
       "      <td>2561.132242</td>\n",
       "      <td>50.145008</td>\n",
       "      <td>50.145008</td>\n",
       "      <td>50.145008</td>\n",
       "      <td>11.396977</td>\n",
       "      <td>...</td>\n",
       "      <td>-72.199019</td>\n",
       "      <td>-72.199019</td>\n",
       "      <td>-72.199019</td>\n",
       "      <td>110.947050</td>\n",
       "      <td>110.947050</td>\n",
       "      <td>110.947050</td>\n",
       "      <td>0.0</td>\n",
       "      <td>0.0</td>\n",
       "      <td>0.0</td>\n",
       "      <td>2177.690353</td>\n",
       "    </tr>\n",
       "    <tr>\n",
       "      <th>93456</th>\n",
       "      <td>2019-12-31 23:00:00</td>\n",
       "      <td>2127.714512</td>\n",
       "      <td>1817.217721</td>\n",
       "      <td>2795.625490</td>\n",
       "      <td>1684.218189</td>\n",
       "      <td>2564.345088</td>\n",
       "      <td>189.199883</td>\n",
       "      <td>189.199883</td>\n",
       "      <td>189.199883</td>\n",
       "      <td>11.396977</td>\n",
       "      <td>...</td>\n",
       "      <td>72.221478</td>\n",
       "      <td>72.221478</td>\n",
       "      <td>72.221478</td>\n",
       "      <td>105.581428</td>\n",
       "      <td>105.581428</td>\n",
       "      <td>105.581428</td>\n",
       "      <td>0.0</td>\n",
       "      <td>0.0</td>\n",
       "      <td>0.0</td>\n",
       "      <td>2316.914395</td>\n",
       "    </tr>\n",
       "  </tbody>\n",
       "</table>\n",
       "<p>93457 rows × 22 columns</p>\n",
       "</div>"
      ],
      "text/plain": [
       "                       ds        trend   yhat_lower   yhat_upper  trend_lower  \\\n",
       "0     2008-03-01 00:00:00  1453.340410   976.820098  1434.068834  1453.340410   \n",
       "1     2008-03-01 01:00:00  1453.283656   903.670083  1359.315597  1453.283656   \n",
       "2     2008-03-01 02:00:00  1453.226901   853.967725  1295.760936  1453.226901   \n",
       "3     2008-03-01 03:00:00  1453.170146   801.117663  1261.884319  1453.170146   \n",
       "4     2008-03-01 04:00:00  1453.113392   794.353559  1235.621966  1453.113392   \n",
       "...                   ...          ...          ...          ...          ...   \n",
       "93452 2019-12-27 23:00:00  2127.037845  1835.875806  2794.801483  1696.784417   \n",
       "93453 2019-12-28 23:00:00  2127.207012  1763.156052  2717.686649  1693.374345   \n",
       "93454 2019-12-29 23:00:00  2127.376178  1616.222443  2560.109753  1690.129909   \n",
       "93455 2019-12-30 23:00:00  2127.545345  1687.605086  2629.041118  1686.885473   \n",
       "93456 2019-12-31 23:00:00  2127.714512  1817.217721  2795.625490  1684.218189   \n",
       "\n",
       "       trend_upper  additive_terms  additive_terms_lower  \\\n",
       "0      1453.340410     -241.657707           -241.657707   \n",
       "1      1453.283656     -326.670354           -326.670354   \n",
       "2      1453.226901     -391.426593           -391.426593   \n",
       "3      1453.170146     -429.215658           -429.215658   \n",
       "4      1453.113392     -434.846623           -434.846623   \n",
       "...            ...             ...                   ...   \n",
       "93452  2554.396559      192.918528            192.918528   \n",
       "93453  2556.560766      117.763995            117.763995   \n",
       "93454  2558.568140      -31.634364            -31.634364   \n",
       "93455  2561.132242       50.145008             50.145008   \n",
       "93456  2564.345088      189.199883            189.199883   \n",
       "\n",
       "       additive_terms_upper       daily  ...      weekly  weekly_lower  \\\n",
       "0               -241.657707  -80.547998  ...   54.723680     54.723680   \n",
       "1               -326.670354 -164.331117  ...   53.610363     53.610363   \n",
       "2               -391.426593 -227.763227  ...   52.402375     52.402375   \n",
       "3               -429.215658 -264.123236  ...   51.089389     51.089389   \n",
       "4               -434.846623 -268.209066  ...   49.660249     49.660249   \n",
       "...                     ...         ...  ...         ...           ...   \n",
       "93452            192.918528   11.396977  ...   55.751723     55.751723   \n",
       "93453            117.763995   11.396977  ...  -14.811377    -14.811377   \n",
       "93454            -31.634364   11.396977  ... -159.222627   -159.222627   \n",
       "93455             50.145008   11.396977  ...  -72.199019    -72.199019   \n",
       "93456            189.199883   11.396977  ...   72.221478     72.221478   \n",
       "\n",
       "       weekly_upper      yearly  yearly_lower  yearly_upper  \\\n",
       "0         54.723680 -215.833389   -215.833389   -215.833389   \n",
       "1         53.610363 -215.949600   -215.949600   -215.949600   \n",
       "2         52.402375 -216.065741   -216.065741   -216.065741   \n",
       "3         51.089389 -216.181811   -216.181811   -216.181811   \n",
       "4         49.660249 -216.297807   -216.297807   -216.297807   \n",
       "...             ...         ...           ...           ...   \n",
       "93452     55.751723  125.769828    125.769828    125.769828   \n",
       "93453    -14.811377  121.178395    121.178395    121.178395   \n",
       "93454   -159.222627  116.191286    116.191286    116.191286   \n",
       "93455    -72.199019  110.947050    110.947050    110.947050   \n",
       "93456     72.221478  105.581428    105.581428    105.581428   \n",
       "\n",
       "       multiplicative_terms  multiplicative_terms_lower  \\\n",
       "0                       0.0                         0.0   \n",
       "1                       0.0                         0.0   \n",
       "2                       0.0                         0.0   \n",
       "3                       0.0                         0.0   \n",
       "4                       0.0                         0.0   \n",
       "...                     ...                         ...   \n",
       "93452                   0.0                         0.0   \n",
       "93453                   0.0                         0.0   \n",
       "93454                   0.0                         0.0   \n",
       "93455                   0.0                         0.0   \n",
       "93456                   0.0                         0.0   \n",
       "\n",
       "       multiplicative_terms_upper         yhat  \n",
       "0                             0.0  1211.682703  \n",
       "1                             0.0  1126.613302  \n",
       "2                             0.0  1061.800308  \n",
       "3                             0.0  1023.954489  \n",
       "4                             0.0  1018.266768  \n",
       "...                           ...          ...  \n",
       "93452                         0.0  2319.956373  \n",
       "93453                         0.0  2244.971007  \n",
       "93454                         0.0  2095.741815  \n",
       "93455                         0.0  2177.690353  \n",
       "93456                         0.0  2316.914395  \n",
       "\n",
       "[93457 rows x 22 columns]"
      ]
     },
     "execution_count": 114,
     "metadata": {},
     "output_type": "execute_result"
    }
   ],
   "source": [
    "prediction"
   ]
  },
  {
   "cell_type": "code",
   "execution_count": 115,
   "metadata": {},
   "outputs": [
    {
     "data": {
      "image/png": "[encoded data removed]",
      "text/plain": [
       "<Figure size 720x432 with 1 Axes>"
      ]
     },
     "execution_count": 115,
     "metadata": {},
     "output_type": "execute_result"
    },
    {
     "data": {
      "image/png": "[encoded data removed]",
      "text/plain": [
       "<Figure size 720x432 with 1 Axes>"
      ]
     },
     "metadata": {},
     "output_type": "display_data"
    }
   ],
   "source": [
    "model.plot(prediction)"
   ]
  },
  {
   "cell_type": "code",
   "execution_count": 116,
   "metadata": {},
   "outputs": [
    {
     "data": {
      "text/plain": [
       "0        1211.682703\n",
       "1        1126.613302\n",
       "2        1061.800308\n",
       "3        1023.954489\n",
       "4        1018.266768\n",
       "            ...     \n",
       "93452    2319.956373\n",
       "93453    2244.971007\n",
       "93454    2095.741815\n",
       "93455    2177.690353\n",
       "93456    2316.914395\n",
       "Name: yhat, Length: 93457, dtype: float64"
      ]
     },
     "execution_count": 116,
     "metadata": {},
     "output_type": "execute_result"
    }
   ],
   "source": [
    "prediction.yhat"
   ]
  },
  {
   "cell_type": "code",
   "execution_count": 121,
   "metadata": {},
   "outputs": [],
   "source": [
    "test_df_copy = test_df2.copy()"
   ]
  },
  {
   "cell_type": "code",
   "execution_count": 122,
   "metadata": {},
   "outputs": [
    {
     "name": "stdout",
     "output_type": "stream",
     "text": [
      "<class 'pandas.core.frame.DataFrame'>\n",
      "RangeIndex: 26304 entries, 0 to 26303\n",
      "Data columns (total 1 columns):\n",
      " #   Column    Non-Null Count  Dtype         \n",
      "---  ------    --------------  -----         \n",
      " 0   datetime  26304 non-null  datetime64[ns]\n",
      "dtypes: datetime64[ns](1)\n",
      "memory usage: 205.6 KB\n"
     ]
    }
   ],
   "source": [
    "test_df_copy['datetime'] = pd.to_datetime(test_df_copy['datetime'])\n",
    "test_df_copy.info()"
   ]
  },
  {
   "cell_type": "code",
   "execution_count": 125,
   "metadata": {},
   "outputs": [
    {
     "data": {
      "text/html": [
       "<div>\n",
       "<style scoped>\n",
       "    .dataframe tbody tr th:only-of-type {\n",
       "        vertical-align: middle;\n",
       "    }\n",
       "\n",
       "    .dataframe tbody tr th {\n",
       "        vertical-align: top;\n",
       "    }\n",
       "\n",
       "    .dataframe thead th {\n",
       "        text-align: right;\n",
       "    }\n",
       "</style>\n",
       "<table border=\"1\" class=\"dataframe\">\n",
       "  <thead>\n",
       "    <tr style=\"text-align: right;\">\n",
       "      <th></th>\n",
       "      <th>ds</th>\n",
       "    </tr>\n",
       "  </thead>\n",
       "  <tbody>\n",
       "    <tr>\n",
       "      <th>0</th>\n",
       "      <td>2019-01-01 00:00:00</td>\n",
       "    </tr>\n",
       "    <tr>\n",
       "      <th>1</th>\n",
       "      <td>2019-01-01 01:00:00</td>\n",
       "    </tr>\n",
       "    <tr>\n",
       "      <th>2</th>\n",
       "      <td>2019-01-01 02:00:00</td>\n",
       "    </tr>\n",
       "    <tr>\n",
       "      <th>3</th>\n",
       "      <td>2019-01-01 03:00:00</td>\n",
       "    </tr>\n",
       "    <tr>\n",
       "      <th>4</th>\n",
       "      <td>2019-01-01 04:00:00</td>\n",
       "    </tr>\n",
       "    <tr>\n",
       "      <th>...</th>\n",
       "      <td>...</td>\n",
       "    </tr>\n",
       "    <tr>\n",
       "      <th>26299</th>\n",
       "      <td>2021-12-31 19:00:00</td>\n",
       "    </tr>\n",
       "    <tr>\n",
       "      <th>26300</th>\n",
       "      <td>2021-12-31 20:00:00</td>\n",
       "    </tr>\n",
       "    <tr>\n",
       "      <th>26301</th>\n",
       "      <td>2021-12-31 21:00:00</td>\n",
       "    </tr>\n",
       "    <tr>\n",
       "      <th>26302</th>\n",
       "      <td>2021-12-31 22:00:00</td>\n",
       "    </tr>\n",
       "    <tr>\n",
       "      <th>26303</th>\n",
       "      <td>2021-12-31 23:00:00</td>\n",
       "    </tr>\n",
       "  </tbody>\n",
       "</table>\n",
       "<p>26304 rows × 1 columns</p>\n",
       "</div>"
      ],
      "text/plain": [
       "                       ds\n",
       "0     2019-01-01 00:00:00\n",
       "1     2019-01-01 01:00:00\n",
       "2     2019-01-01 02:00:00\n",
       "3     2019-01-01 03:00:00\n",
       "4     2019-01-01 04:00:00\n",
       "...                   ...\n",
       "26299 2021-12-31 19:00:00\n",
       "26300 2021-12-31 20:00:00\n",
       "26301 2021-12-31 21:00:00\n",
       "26302 2021-12-31 22:00:00\n",
       "26303 2021-12-31 23:00:00\n",
       "\n",
       "[26304 rows x 1 columns]"
      ]
     },
     "execution_count": 125,
     "metadata": {},
     "output_type": "execute_result"
    }
   ],
   "source": [
    "test_df_copy.columns = ['ds']\n",
    "test_df_copy"
   ]
  },
  {
   "cell_type": "code",
   "execution_count": 126,
   "metadata": {},
   "outputs": [],
   "source": [
    "prediction2 = model.predict(test_df_copy)"
   ]
  },
  {
   "cell_type": "code",
   "execution_count": 127,
   "metadata": {},
   "outputs": [
    {
     "data": {
      "text/html": [
       "<div>\n",
       "<style scoped>\n",
       "    .dataframe tbody tr th:only-of-type {\n",
       "        vertical-align: middle;\n",
       "    }\n",
       "\n",
       "    .dataframe tbody tr th {\n",
       "        vertical-align: top;\n",
       "    }\n",
       "\n",
       "    .dataframe thead th {\n",
       "        text-align: right;\n",
       "    }\n",
       "</style>\n",
       "<table border=\"1\" class=\"dataframe\">\n",
       "  <thead>\n",
       "    <tr style=\"text-align: right;\">\n",
       "      <th></th>\n",
       "      <th>ds</th>\n",
       "      <th>trend</th>\n",
       "      <th>yhat_lower</th>\n",
       "      <th>yhat_upper</th>\n",
       "      <th>trend_lower</th>\n",
       "      <th>trend_upper</th>\n",
       "      <th>additive_terms</th>\n",
       "      <th>additive_terms_lower</th>\n",
       "      <th>additive_terms_upper</th>\n",
       "      <th>daily</th>\n",
       "      <th>...</th>\n",
       "      <th>weekly</th>\n",
       "      <th>weekly_lower</th>\n",
       "      <th>weekly_upper</th>\n",
       "      <th>yearly</th>\n",
       "      <th>yearly_lower</th>\n",
       "      <th>yearly_upper</th>\n",
       "      <th>multiplicative_terms</th>\n",
       "      <th>multiplicative_terms_lower</th>\n",
       "      <th>multiplicative_terms_upper</th>\n",
       "      <th>yhat</th>\n",
       "    </tr>\n",
       "  </thead>\n",
       "  <tbody>\n",
       "    <tr>\n",
       "      <th>0</th>\n",
       "      <td>2019-01-01 00:00:00</td>\n",
       "      <td>2065.975712</td>\n",
       "      <td>1792.740218</td>\n",
       "      <td>2251.666844</td>\n",
       "      <td>2065.975712</td>\n",
       "      <td>2065.975712</td>\n",
       "      <td>-40.256342</td>\n",
       "      <td>-40.256342</td>\n",
       "      <td>-40.256342</td>\n",
       "      <td>-80.547998</td>\n",
       "      <td>...</td>\n",
       "      <td>-63.720728</td>\n",
       "      <td>-63.720728</td>\n",
       "      <td>-63.720728</td>\n",
       "      <td>104.012384</td>\n",
       "      <td>104.012384</td>\n",
       "      <td>104.012384</td>\n",
       "      <td>0.0</td>\n",
       "      <td>0.0</td>\n",
       "      <td>0.0</td>\n",
       "      <td>2025.719370</td>\n",
       "    </tr>\n",
       "    <tr>\n",
       "      <th>1</th>\n",
       "      <td>2019-01-01 01:00:00</td>\n",
       "      <td>2065.982761</td>\n",
       "      <td>1724.158406</td>\n",
       "      <td>2177.816944</td>\n",
       "      <td>2065.982761</td>\n",
       "      <td>2065.982761</td>\n",
       "      <td>-115.729396</td>\n",
       "      <td>-115.729396</td>\n",
       "      <td>-115.729396</td>\n",
       "      <td>-164.331117</td>\n",
       "      <td>...</td>\n",
       "      <td>-55.186751</td>\n",
       "      <td>-55.186751</td>\n",
       "      <td>-55.186751</td>\n",
       "      <td>103.788472</td>\n",
       "      <td>103.788472</td>\n",
       "      <td>103.788472</td>\n",
       "      <td>0.0</td>\n",
       "      <td>0.0</td>\n",
       "      <td>0.0</td>\n",
       "      <td>1950.253365</td>\n",
       "    </tr>\n",
       "    <tr>\n",
       "      <th>2</th>\n",
       "      <td>2019-01-01 02:00:00</td>\n",
       "      <td>2065.989809</td>\n",
       "      <td>1674.249915</td>\n",
       "      <td>2131.716271</td>\n",
       "      <td>2065.989809</td>\n",
       "      <td>2065.989809</td>\n",
       "      <td>-170.842897</td>\n",
       "      <td>-170.842897</td>\n",
       "      <td>-170.842897</td>\n",
       "      <td>-227.763227</td>\n",
       "      <td>...</td>\n",
       "      <td>-46.644316</td>\n",
       "      <td>-46.644316</td>\n",
       "      <td>-46.644316</td>\n",
       "      <td>103.564646</td>\n",
       "      <td>103.564646</td>\n",
       "      <td>103.564646</td>\n",
       "      <td>0.0</td>\n",
       "      <td>0.0</td>\n",
       "      <td>0.0</td>\n",
       "      <td>1895.146913</td>\n",
       "    </tr>\n",
       "    <tr>\n",
       "      <th>3</th>\n",
       "      <td>2019-01-01 03:00:00</td>\n",
       "      <td>2065.996858</td>\n",
       "      <td>1649.189760</td>\n",
       "      <td>2082.912432</td>\n",
       "      <td>2065.996858</td>\n",
       "      <td>2065.996858</td>\n",
       "      <td>-198.922226</td>\n",
       "      <td>-198.922226</td>\n",
       "      <td>-198.922226</td>\n",
       "      <td>-264.123236</td>\n",
       "      <td>...</td>\n",
       "      <td>-38.139904</td>\n",
       "      <td>-38.139904</td>\n",
       "      <td>-38.139904</td>\n",
       "      <td>103.340914</td>\n",
       "      <td>103.340914</td>\n",
       "      <td>103.340914</td>\n",
       "      <td>0.0</td>\n",
       "      <td>0.0</td>\n",
       "      <td>0.0</td>\n",
       "      <td>1867.074632</td>\n",
       "    </tr>\n",
       "    <tr>\n",
       "      <th>4</th>\n",
       "      <td>2019-01-01 04:00:00</td>\n",
       "      <td>2066.003907</td>\n",
       "      <td>1648.911205</td>\n",
       "      <td>2096.758911</td>\n",
       "      <td>2066.003907</td>\n",
       "      <td>2066.003907</td>\n",
       "      <td>-194.810656</td>\n",
       "      <td>-194.810656</td>\n",
       "      <td>-194.810656</td>\n",
       "      <td>-268.209066</td>\n",
       "      <td>...</td>\n",
       "      <td>-29.718876</td>\n",
       "      <td>-29.718876</td>\n",
       "      <td>-29.718876</td>\n",
       "      <td>103.117286</td>\n",
       "      <td>103.117286</td>\n",
       "      <td>103.117286</td>\n",
       "      <td>0.0</td>\n",
       "      <td>0.0</td>\n",
       "      <td>0.0</td>\n",
       "      <td>1871.193250</td>\n",
       "    </tr>\n",
       "    <tr>\n",
       "      <th>...</th>\n",
       "      <td>...</td>\n",
       "      <td>...</td>\n",
       "      <td>...</td>\n",
       "      <td>...</td>\n",
       "      <td>...</td>\n",
       "      <td>...</td>\n",
       "      <td>...</td>\n",
       "      <td>...</td>\n",
       "      <td>...</td>\n",
       "      <td>...</td>\n",
       "      <td>...</td>\n",
       "      <td>...</td>\n",
       "      <td>...</td>\n",
       "      <td>...</td>\n",
       "      <td>...</td>\n",
       "      <td>...</td>\n",
       "      <td>...</td>\n",
       "      <td>...</td>\n",
       "      <td>...</td>\n",
       "      <td>...</td>\n",
       "      <td>...</td>\n",
       "    </tr>\n",
       "    <tr>\n",
       "      <th>26299</th>\n",
       "      <td>2021-12-31 19:00:00</td>\n",
       "      <td>2251.347181</td>\n",
       "      <td>-23.822521</td>\n",
       "      <td>5079.801160</td>\n",
       "      <td>-231.168190</td>\n",
       "      <td>4776.788644</td>\n",
       "      <td>308.249494</td>\n",
       "      <td>308.249494</td>\n",
       "      <td>308.249494</td>\n",
       "      <td>145.298280</td>\n",
       "      <td>...</td>\n",
       "      <td>59.162742</td>\n",
       "      <td>59.162742</td>\n",
       "      <td>59.162742</td>\n",
       "      <td>103.788472</td>\n",
       "      <td>103.788472</td>\n",
       "      <td>103.788472</td>\n",
       "      <td>0.0</td>\n",
       "      <td>0.0</td>\n",
       "      <td>0.0</td>\n",
       "      <td>2559.596675</td>\n",
       "    </tr>\n",
       "    <tr>\n",
       "      <th>26300</th>\n",
       "      <td>2021-12-31 20:00:00</td>\n",
       "      <td>2251.354229</td>\n",
       "      <td>19.321239</td>\n",
       "      <td>5075.144204</td>\n",
       "      <td>-231.342586</td>\n",
       "      <td>4776.844863</td>\n",
       "      <td>321.273933</td>\n",
       "      <td>321.273933</td>\n",
       "      <td>321.273933</td>\n",
       "      <td>159.306562</td>\n",
       "      <td>...</td>\n",
       "      <td>58.402725</td>\n",
       "      <td>58.402725</td>\n",
       "      <td>58.402725</td>\n",
       "      <td>103.564646</td>\n",
       "      <td>103.564646</td>\n",
       "      <td>103.564646</td>\n",
       "      <td>0.0</td>\n",
       "      <td>0.0</td>\n",
       "      <td>0.0</td>\n",
       "      <td>2572.628162</td>\n",
       "    </tr>\n",
       "    <tr>\n",
       "      <th>26301</th>\n",
       "      <td>2021-12-31 21:00:00</td>\n",
       "      <td>2251.361278</td>\n",
       "      <td>20.679883</td>\n",
       "      <td>5111.042590</td>\n",
       "      <td>-231.516983</td>\n",
       "      <td>4776.901083</td>\n",
       "      <td>305.603809</td>\n",
       "      <td>305.603809</td>\n",
       "      <td>305.603809</td>\n",
       "      <td>144.678421</td>\n",
       "      <td>...</td>\n",
       "      <td>57.584474</td>\n",
       "      <td>57.584474</td>\n",
       "      <td>57.584474</td>\n",
       "      <td>103.340914</td>\n",
       "      <td>103.340914</td>\n",
       "      <td>103.340914</td>\n",
       "      <td>0.0</td>\n",
       "      <td>0.0</td>\n",
       "      <td>0.0</td>\n",
       "      <td>2556.965087</td>\n",
       "    </tr>\n",
       "    <tr>\n",
       "      <th>26302</th>\n",
       "      <td>2021-12-31 22:00:00</td>\n",
       "      <td>2251.368326</td>\n",
       "      <td>-6.342117</td>\n",
       "      <td>5036.322765</td>\n",
       "      <td>-231.691379</td>\n",
       "      <td>4776.957302</td>\n",
       "      <td>252.551558</td>\n",
       "      <td>252.551558</td>\n",
       "      <td>252.551558</td>\n",
       "      <td>92.731391</td>\n",
       "      <td>...</td>\n",
       "      <td>56.702881</td>\n",
       "      <td>56.702881</td>\n",
       "      <td>56.702881</td>\n",
       "      <td>103.117286</td>\n",
       "      <td>103.117286</td>\n",
       "      <td>103.117286</td>\n",
       "      <td>0.0</td>\n",
       "      <td>0.0</td>\n",
       "      <td>0.0</td>\n",
       "      <td>2503.919884</td>\n",
       "    </tr>\n",
       "    <tr>\n",
       "      <th>26303</th>\n",
       "      <td>2021-12-31 23:00:00</td>\n",
       "      <td>2251.375375</td>\n",
       "      <td>-189.473829</td>\n",
       "      <td>4906.945032</td>\n",
       "      <td>-231.865776</td>\n",
       "      <td>4777.013522</td>\n",
       "      <td>170.042470</td>\n",
       "      <td>170.042470</td>\n",
       "      <td>170.042470</td>\n",
       "      <td>11.396977</td>\n",
       "      <td>...</td>\n",
       "      <td>55.751723</td>\n",
       "      <td>55.751723</td>\n",
       "      <td>55.751723</td>\n",
       "      <td>102.893769</td>\n",
       "      <td>102.893769</td>\n",
       "      <td>102.893769</td>\n",
       "      <td>0.0</td>\n",
       "      <td>0.0</td>\n",
       "      <td>0.0</td>\n",
       "      <td>2421.417845</td>\n",
       "    </tr>\n",
       "  </tbody>\n",
       "</table>\n",
       "<p>26304 rows × 22 columns</p>\n",
       "</div>"
      ],
      "text/plain": [
       "                       ds        trend   yhat_lower   yhat_upper  trend_lower  \\\n",
       "0     2019-01-01 00:00:00  2065.975712  1792.740218  2251.666844  2065.975712   \n",
       "1     2019-01-01 01:00:00  2065.982761  1724.158406  2177.816944  2065.982761   \n",
       "2     2019-01-01 02:00:00  2065.989809  1674.249915  2131.716271  2065.989809   \n",
       "3     2019-01-01 03:00:00  2065.996858  1649.189760  2082.912432  2065.996858   \n",
       "4     2019-01-01 04:00:00  2066.003907  1648.911205  2096.758911  2066.003907   \n",
       "...                   ...          ...          ...          ...          ...   \n",
       "26299 2021-12-31 19:00:00  2251.347181   -23.822521  5079.801160  -231.168190   \n",
       "26300 2021-12-31 20:00:00  2251.354229    19.321239  5075.144204  -231.342586   \n",
       "26301 2021-12-31 21:00:00  2251.361278    20.679883  5111.042590  -231.516983   \n",
       "26302 2021-12-31 22:00:00  2251.368326    -6.342117  5036.322765  -231.691379   \n",
       "26303 2021-12-31 23:00:00  2251.375375  -189.473829  4906.945032  -231.865776   \n",
       "\n",
       "       trend_upper  additive_terms  additive_terms_lower  \\\n",
       "0      2065.975712      -40.256342            -40.256342   \n",
       "1      2065.982761     -115.729396           -115.729396   \n",
       "2      2065.989809     -170.842897           -170.842897   \n",
       "3      2065.996858     -198.922226           -198.922226   \n",
       "4      2066.003907     -194.810656           -194.810656   \n",
       "...            ...             ...                   ...   \n",
       "26299  4776.788644      308.249494            308.249494   \n",
       "26300  4776.844863      321.273933            321.273933   \n",
       "26301  4776.901083      305.603809            305.603809   \n",
       "26302  4776.957302      252.551558            252.551558   \n",
       "26303  4777.013522      170.042470            170.042470   \n",
       "\n",
       "       additive_terms_upper       daily  ...     weekly  weekly_lower  \\\n",
       "0                -40.256342  -80.547998  ... -63.720728    -63.720728   \n",
       "1               -115.729396 -164.331117  ... -55.186751    -55.186751   \n",
       "2               -170.842897 -227.763227  ... -46.644316    -46.644316   \n",
       "3               -198.922226 -264.123236  ... -38.139904    -38.139904   \n",
       "4               -194.810656 -268.209066  ... -29.718876    -29.718876   \n",
       "...                     ...         ...  ...        ...           ...   \n",
       "26299            308.249494  145.298280  ...  59.162742     59.162742   \n",
       "26300            321.273933  159.306562  ...  58.402725     58.402725   \n",
       "26301            305.603809  144.678421  ...  57.584474     57.584474   \n",
       "26302            252.551558   92.731391  ...  56.702881     56.702881   \n",
       "26303            170.042470   11.396977  ...  55.751723     55.751723   \n",
       "\n",
       "       weekly_upper      yearly  yearly_lower  yearly_upper  \\\n",
       "0        -63.720728  104.012384    104.012384    104.012384   \n",
       "1        -55.186751  103.788472    103.788472    103.788472   \n",
       "2        -46.644316  103.564646    103.564646    103.564646   \n",
       "3        -38.139904  103.340914    103.340914    103.340914   \n",
       "4        -29.718876  103.117286    103.117286    103.117286   \n",
       "...             ...         ...           ...           ...   \n",
       "26299     59.162742  103.788472    103.788472    103.788472   \n",
       "26300     58.402725  103.564646    103.564646    103.564646   \n",
       "26301     57.584474  103.340914    103.340914    103.340914   \n",
       "26302     56.702881  103.117286    103.117286    103.117286   \n",
       "26303     55.751723  102.893769    102.893769    102.893769   \n",
       "\n",
       "       multiplicative_terms  multiplicative_terms_lower  \\\n",
       "0                       0.0                         0.0   \n",
       "1                       0.0                         0.0   \n",
       "2                       0.0                         0.0   \n",
       "3                       0.0                         0.0   \n",
       "4                       0.0                         0.0   \n",
       "...                     ...                         ...   \n",
       "26299                   0.0                         0.0   \n",
       "26300                   0.0                         0.0   \n",
       "26301                   0.0                         0.0   \n",
       "26302                   0.0                         0.0   \n",
       "26303                   0.0                         0.0   \n",
       "\n",
       "       multiplicative_terms_upper         yhat  \n",
       "0                             0.0  2025.719370  \n",
       "1                             0.0  1950.253365  \n",
       "2                             0.0  1895.146913  \n",
       "3                             0.0  1867.074632  \n",
       "4                             0.0  1871.193250  \n",
       "...                           ...          ...  \n",
       "26299                         0.0  2559.596675  \n",
       "26300                         0.0  2572.628162  \n",
       "26301                         0.0  2556.965087  \n",
       "26302                         0.0  2503.919884  \n",
       "26303                         0.0  2421.417845  \n",
       "\n",
       "[26304 rows x 22 columns]"
      ]
     },
     "execution_count": 127,
     "metadata": {},
     "output_type": "execute_result"
    }
   ],
   "source": [
    "prediction2"
   ]
  },
  {
   "cell_type": "code",
   "execution_count": 128,
   "metadata": {},
   "outputs": [
    {
     "data": {
      "text/plain": [
       "<AxesSubplot:xlabel='ds', ylabel='yhat'>"
      ]
     },
     "execution_count": 128,
     "metadata": {},
     "output_type": "execute_result"
    },
    {
     "data": {
      "image/png": "[encoded data removed]",
      "text/plain": [
       "<Figure size 432x288 with 1 Axes>"
      ]
     },
     "metadata": {
      "needs_background": "light"
     },
     "output_type": "display_data"
    }
   ],
   "source": [
    "sns.lineplot(data=prediction2, x=prediction2.ds, y=prediction2.yhat)"
   ]
  },
  {
   "cell_type": "code",
   "execution_count": 130,
   "metadata": {},
   "outputs": [
    {
     "data": {
      "text/html": [
       "<div>\n",
       "<style scoped>\n",
       "    .dataframe tbody tr th:only-of-type {\n",
       "        vertical-align: middle;\n",
       "    }\n",
       "\n",
       "    .dataframe tbody tr th {\n",
       "        vertical-align: top;\n",
       "    }\n",
       "\n",
       "    .dataframe thead th {\n",
       "        text-align: right;\n",
       "    }\n",
       "</style>\n",
       "<table border=\"1\" class=\"dataframe\">\n",
       "  <thead>\n",
       "    <tr style=\"text-align: right;\">\n",
       "      <th></th>\n",
       "      <th>ds</th>\n",
       "      <th>yhat</th>\n",
       "    </tr>\n",
       "  </thead>\n",
       "  <tbody>\n",
       "    <tr>\n",
       "      <th>0</th>\n",
       "      <td>2019-01-01 00:00:00</td>\n",
       "      <td>2025.719370</td>\n",
       "    </tr>\n",
       "    <tr>\n",
       "      <th>1</th>\n",
       "      <td>2019-01-01 01:00:00</td>\n",
       "      <td>1950.253365</td>\n",
       "    </tr>\n",
       "    <tr>\n",
       "      <th>2</th>\n",
       "      <td>2019-01-01 02:00:00</td>\n",
       "      <td>1895.146913</td>\n",
       "    </tr>\n",
       "    <tr>\n",
       "      <th>3</th>\n",
       "      <td>2019-01-01 03:00:00</td>\n",
       "      <td>1867.074632</td>\n",
       "    </tr>\n",
       "    <tr>\n",
       "      <th>4</th>\n",
       "      <td>2019-01-01 04:00:00</td>\n",
       "      <td>1871.193250</td>\n",
       "    </tr>\n",
       "    <tr>\n",
       "      <th>...</th>\n",
       "      <td>...</td>\n",
       "      <td>...</td>\n",
       "    </tr>\n",
       "    <tr>\n",
       "      <th>26299</th>\n",
       "      <td>2021-12-31 19:00:00</td>\n",
       "      <td>2559.596675</td>\n",
       "    </tr>\n",
       "    <tr>\n",
       "      <th>26300</th>\n",
       "      <td>2021-12-31 20:00:00</td>\n",
       "      <td>2572.628162</td>\n",
       "    </tr>\n",
       "    <tr>\n",
       "      <th>26301</th>\n",
       "      <td>2021-12-31 21:00:00</td>\n",
       "      <td>2556.965087</td>\n",
       "    </tr>\n",
       "    <tr>\n",
       "      <th>26302</th>\n",
       "      <td>2021-12-31 22:00:00</td>\n",
       "      <td>2503.919884</td>\n",
       "    </tr>\n",
       "    <tr>\n",
       "      <th>26303</th>\n",
       "      <td>2021-12-31 23:00:00</td>\n",
       "      <td>2421.417845</td>\n",
       "    </tr>\n",
       "  </tbody>\n",
       "</table>\n",
       "<p>26304 rows × 2 columns</p>\n",
       "</div>"
      ],
      "text/plain": [
       "                       ds         yhat\n",
       "0     2019-01-01 00:00:00  2025.719370\n",
       "1     2019-01-01 01:00:00  1950.253365\n",
       "2     2019-01-01 02:00:00  1895.146913\n",
       "3     2019-01-01 03:00:00  1867.074632\n",
       "4     2019-01-01 04:00:00  1871.193250\n",
       "...                   ...          ...\n",
       "26299 2021-12-31 19:00:00  2559.596675\n",
       "26300 2021-12-31 20:00:00  2572.628162\n",
       "26301 2021-12-31 21:00:00  2556.965087\n",
       "26302 2021-12-31 22:00:00  2503.919884\n",
       "26303 2021-12-31 23:00:00  2421.417845\n",
       "\n",
       "[26304 rows x 2 columns]"
      ]
     },
     "execution_count": 130,
     "metadata": {},
     "output_type": "execute_result"
    }
   ],
   "source": [
    "submission_1 = prediction2[['ds', 'yhat']]\n",
    "submission_1"
   ]
  },
  {
   "cell_type": "code",
   "execution_count": 131,
   "metadata": {},
   "outputs": [
    {
     "data": {
      "text/html": [
       "<div>\n",
       "<style scoped>\n",
       "    .dataframe tbody tr th:only-of-type {\n",
       "        vertical-align: middle;\n",
       "    }\n",
       "\n",
       "    .dataframe tbody tr th {\n",
       "        vertical-align: top;\n",
       "    }\n",
       "\n",
       "    .dataframe thead th {\n",
       "        text-align: right;\n",
       "    }\n",
       "</style>\n",
       "<table border=\"1\" class=\"dataframe\">\n",
       "  <thead>\n",
       "    <tr style=\"text-align: right;\">\n",
       "      <th></th>\n",
       "      <th>datetime</th>\n",
       "      <th>energy</th>\n",
       "    </tr>\n",
       "  </thead>\n",
       "  <tbody>\n",
       "    <tr>\n",
       "      <th>0</th>\n",
       "      <td>2019-01-01 00:00:00</td>\n",
       "      <td>2025.719370</td>\n",
       "    </tr>\n",
       "    <tr>\n",
       "      <th>1</th>\n",
       "      <td>2019-01-01 01:00:00</td>\n",
       "      <td>1950.253365</td>\n",
       "    </tr>\n",
       "    <tr>\n",
       "      <th>2</th>\n",
       "      <td>2019-01-01 02:00:00</td>\n",
       "      <td>1895.146913</td>\n",
       "    </tr>\n",
       "    <tr>\n",
       "      <th>3</th>\n",
       "      <td>2019-01-01 03:00:00</td>\n",
       "      <td>1867.074632</td>\n",
       "    </tr>\n",
       "    <tr>\n",
       "      <th>4</th>\n",
       "      <td>2019-01-01 04:00:00</td>\n",
       "      <td>1871.193250</td>\n",
       "    </tr>\n",
       "    <tr>\n",
       "      <th>...</th>\n",
       "      <td>...</td>\n",
       "      <td>...</td>\n",
       "    </tr>\n",
       "    <tr>\n",
       "      <th>26299</th>\n",
       "      <td>2021-12-31 19:00:00</td>\n",
       "      <td>2559.596675</td>\n",
       "    </tr>\n",
       "    <tr>\n",
       "      <th>26300</th>\n",
       "      <td>2021-12-31 20:00:00</td>\n",
       "      <td>2572.628162</td>\n",
       "    </tr>\n",
       "    <tr>\n",
       "      <th>26301</th>\n",
       "      <td>2021-12-31 21:00:00</td>\n",
       "      <td>2556.965087</td>\n",
       "    </tr>\n",
       "    <tr>\n",
       "      <th>26302</th>\n",
       "      <td>2021-12-31 22:00:00</td>\n",
       "      <td>2503.919884</td>\n",
       "    </tr>\n",
       "    <tr>\n",
       "      <th>26303</th>\n",
       "      <td>2021-12-31 23:00:00</td>\n",
       "      <td>2421.417845</td>\n",
       "    </tr>\n",
       "  </tbody>\n",
       "</table>\n",
       "<p>26304 rows × 2 columns</p>\n",
       "</div>"
      ],
      "text/plain": [
       "                 datetime       energy\n",
       "0     2019-01-01 00:00:00  2025.719370\n",
       "1     2019-01-01 01:00:00  1950.253365\n",
       "2     2019-01-01 02:00:00  1895.146913\n",
       "3     2019-01-01 03:00:00  1867.074632\n",
       "4     2019-01-01 04:00:00  1871.193250\n",
       "...                   ...          ...\n",
       "26299 2021-12-31 19:00:00  2559.596675\n",
       "26300 2021-12-31 20:00:00  2572.628162\n",
       "26301 2021-12-31 21:00:00  2556.965087\n",
       "26302 2021-12-31 22:00:00  2503.919884\n",
       "26303 2021-12-31 23:00:00  2421.417845\n",
       "\n",
       "[26304 rows x 2 columns]"
      ]
     },
     "execution_count": 131,
     "metadata": {},
     "output_type": "execute_result"
    }
   ],
   "source": [
    "submission_1.columns = ['datetime', 'energy']\n",
    "submission_1"
   ]
  },
  {
   "cell_type": "code",
   "execution_count": 132,
   "metadata": {},
   "outputs": [
    {
     "data": {
      "text/html": [
       "<div>\n",
       "<style scoped>\n",
       "    .dataframe tbody tr th:only-of-type {\n",
       "        vertical-align: middle;\n",
       "    }\n",
       "\n",
       "    .dataframe tbody tr th {\n",
       "        vertical-align: top;\n",
       "    }\n",
       "\n",
       "    .dataframe thead th {\n",
       "        text-align: right;\n",
       "    }\n",
       "</style>\n",
       "<table border=\"1\" class=\"dataframe\">\n",
       "  <thead>\n",
       "    <tr style=\"text-align: right;\">\n",
       "      <th></th>\n",
       "      <th>row_id</th>\n",
       "      <th>energy</th>\n",
       "    </tr>\n",
       "  </thead>\n",
       "  <tbody>\n",
       "    <tr>\n",
       "      <th>0</th>\n",
       "      <td>94993</td>\n",
       "      <td>1702.995014</td>\n",
       "    </tr>\n",
       "    <tr>\n",
       "      <th>1</th>\n",
       "      <td>94994</td>\n",
       "      <td>1702.995014</td>\n",
       "    </tr>\n",
       "    <tr>\n",
       "      <th>2</th>\n",
       "      <td>94995</td>\n",
       "      <td>1702.995014</td>\n",
       "    </tr>\n",
       "    <tr>\n",
       "      <th>3</th>\n",
       "      <td>94996</td>\n",
       "      <td>1702.995014</td>\n",
       "    </tr>\n",
       "    <tr>\n",
       "      <th>4</th>\n",
       "      <td>94997</td>\n",
       "      <td>1702.995014</td>\n",
       "    </tr>\n",
       "    <tr>\n",
       "      <th>...</th>\n",
       "      <td>...</td>\n",
       "      <td>...</td>\n",
       "    </tr>\n",
       "    <tr>\n",
       "      <th>26299</th>\n",
       "      <td>121292</td>\n",
       "      <td>1702.995014</td>\n",
       "    </tr>\n",
       "    <tr>\n",
       "      <th>26300</th>\n",
       "      <td>121293</td>\n",
       "      <td>1702.995014</td>\n",
       "    </tr>\n",
       "    <tr>\n",
       "      <th>26301</th>\n",
       "      <td>121294</td>\n",
       "      <td>1702.995014</td>\n",
       "    </tr>\n",
       "    <tr>\n",
       "      <th>26302</th>\n",
       "      <td>121295</td>\n",
       "      <td>1702.995014</td>\n",
       "    </tr>\n",
       "    <tr>\n",
       "      <th>26303</th>\n",
       "      <td>121296</td>\n",
       "      <td>1702.995014</td>\n",
       "    </tr>\n",
       "  </tbody>\n",
       "</table>\n",
       "<p>26304 rows × 2 columns</p>\n",
       "</div>"
      ],
      "text/plain": [
       "       row_id       energy\n",
       "0       94993  1702.995014\n",
       "1       94994  1702.995014\n",
       "2       94995  1702.995014\n",
       "3       94996  1702.995014\n",
       "4       94997  1702.995014\n",
       "...       ...          ...\n",
       "26299  121292  1702.995014\n",
       "26300  121293  1702.995014\n",
       "26301  121294  1702.995014\n",
       "26302  121295  1702.995014\n",
       "26303  121296  1702.995014\n",
       "\n",
       "[26304 rows x 2 columns]"
      ]
     },
     "execution_count": 132,
     "metadata": {},
     "output_type": "execute_result"
    }
   ],
   "source": [
    "sub_df = pd.read_csv('sample_submission_jn0a7vR.csv')\n",
    "sub_df"
   ]
  },
  {
   "cell_type": "code",
   "execution_count": 133,
   "metadata": {},
   "outputs": [
    {
     "data": {
      "text/html": [
       "<div>\n",
       "<style scoped>\n",
       "    .dataframe tbody tr th:only-of-type {\n",
       "        vertical-align: middle;\n",
       "    }\n",
       "\n",
       "    .dataframe tbody tr th {\n",
       "        vertical-align: top;\n",
       "    }\n",
       "\n",
       "    .dataframe thead th {\n",
       "        text-align: right;\n",
       "    }\n",
       "</style>\n",
       "<table border=\"1\" class=\"dataframe\">\n",
       "  <thead>\n",
       "    <tr style=\"text-align: right;\">\n",
       "      <th></th>\n",
       "      <th>row_id</th>\n",
       "      <th>energy</th>\n",
       "    </tr>\n",
       "  </thead>\n",
       "  <tbody>\n",
       "    <tr>\n",
       "      <th>0</th>\n",
       "      <td>94993</td>\n",
       "      <td>2025.719370</td>\n",
       "    </tr>\n",
       "    <tr>\n",
       "      <th>1</th>\n",
       "      <td>94994</td>\n",
       "      <td>1950.253365</td>\n",
       "    </tr>\n",
       "    <tr>\n",
       "      <th>2</th>\n",
       "      <td>94995</td>\n",
       "      <td>1895.146913</td>\n",
       "    </tr>\n",
       "    <tr>\n",
       "      <th>3</th>\n",
       "      <td>94996</td>\n",
       "      <td>1867.074632</td>\n",
       "    </tr>\n",
       "    <tr>\n",
       "      <th>4</th>\n",
       "      <td>94997</td>\n",
       "      <td>1871.193250</td>\n",
       "    </tr>\n",
       "    <tr>\n",
       "      <th>...</th>\n",
       "      <td>...</td>\n",
       "      <td>...</td>\n",
       "    </tr>\n",
       "    <tr>\n",
       "      <th>26299</th>\n",
       "      <td>121292</td>\n",
       "      <td>2559.596675</td>\n",
       "    </tr>\n",
       "    <tr>\n",
       "      <th>26300</th>\n",
       "      <td>121293</td>\n",
       "      <td>2572.628162</td>\n",
       "    </tr>\n",
       "    <tr>\n",
       "      <th>26301</th>\n",
       "      <td>121294</td>\n",
       "      <td>2556.965087</td>\n",
       "    </tr>\n",
       "    <tr>\n",
       "      <th>26302</th>\n",
       "      <td>121295</td>\n",
       "      <td>2503.919884</td>\n",
       "    </tr>\n",
       "    <tr>\n",
       "      <th>26303</th>\n",
       "      <td>121296</td>\n",
       "      <td>2421.417845</td>\n",
       "    </tr>\n",
       "  </tbody>\n",
       "</table>\n",
       "<p>26304 rows × 2 columns</p>\n",
       "</div>"
      ],
      "text/plain": [
       "       row_id       energy\n",
       "0       94993  2025.719370\n",
       "1       94994  1950.253365\n",
       "2       94995  1895.146913\n",
       "3       94996  1867.074632\n",
       "4       94997  1871.193250\n",
       "...       ...          ...\n",
       "26299  121292  2559.596675\n",
       "26300  121293  2572.628162\n",
       "26301  121294  2556.965087\n",
       "26302  121295  2503.919884\n",
       "26303  121296  2421.417845\n",
       "\n",
       "[26304 rows x 2 columns]"
      ]
     },
     "execution_count": 133,
     "metadata": {},
     "output_type": "execute_result"
    }
   ],
   "source": [
    "sub1 = pd.concat([sub_df.row_id, submission_1.energy], axis=1)\n",
    "sub1"
   ]
  },
  {
   "cell_type": "code",
   "execution_count": 135,
   "metadata": {},
   "outputs": [],
   "source": [
    "sub1.to_csv('submissions/first_sub.csv', index = False, encoding='utf-8')"
   ]
  }
 ],
 "metadata": {
  "kernelspec": {
   "display_name": "Python 3.10.0 64-bit",
   "language": "python",
   "name": "python3"
  },
  "language_info": {
   "codemirror_mode": {
    "name": "ipython",
    "version": 3
   },
   "file_extension": ".py",
   "mimetype": "text/x-python",
   "name": "python",
   "nbconvert_exporter": "python",
   "pygments_lexer": "ipython3",
   "version": "3.10.0"
  },
  "orig_nbformat": 4,
  "vscode": {
   "interpreter": {
    "hash": "369f2c481f4da34e4445cda3fffd2e751bd1c4d706f27375911949ba6bb62e1c"
   }
  }
 },
 "nbformat": 4,
 "nbformat_minor": 2
}
