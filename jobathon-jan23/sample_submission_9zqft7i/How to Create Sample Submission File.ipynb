{
 "cells": [
  {
   "cell_type": "code",
   "execution_count": 12,
   "id": "f2bc6527",
   "metadata": {},
   "outputs": [],
   "source": [
    "#load train and test files\n",
    "import pandas as pd\n",
    "train = pd.read_csv('train.csv')\n",
    "test  = pd.read_csv(\"test.csv\")\n",
    "\n",
    "#taking the mean of cltv from the training set\n",
    "test['cltv']=train['cltv'].mean()\n",
    "\n",
    "#creating the sample submission file\n",
    "sample_submission = test[['id','cltv']]\n",
    "sample_submission.to_csv(\"sample_submission.csv\",index=False)"
   ]
  },
  {
   "cell_type": "code",
   "execution_count": null,
   "id": "dc5a888e",
   "metadata": {},
   "outputs": [],
   "source": []
  },
  {
   "cell_type": "code",
   "execution_count": null,
   "id": "8673cadb",
   "metadata": {},
   "outputs": [],
   "source": []
  },
  {
   "cell_type": "code",
   "execution_count": null,
   "id": "abd85730",
   "metadata": {},
   "outputs": [],
   "source": []
  },
  {
   "cell_type": "code",
   "execution_count": null,
   "id": "3ef41fd9",
   "metadata": {},
   "outputs": [],
   "source": []
  }
 ],
 "metadata": {
  "kernelspec": {
   "display_name": "Python 3",
   "language": "python",
   "name": "python3"
  },
  "language_info": {
   "codemirror_mode": {
    "name": "ipython",
    "version": 3
   },
   "file_extension": ".py",
   "mimetype": "text/x-python",
   "name": "python",
   "nbconvert_exporter": "python",
   "pygments_lexer": "ipython3",
   "version": "3.6.8rc1"
  }
 },
 "nbformat": 4,
 "nbformat_minor": 5
}
